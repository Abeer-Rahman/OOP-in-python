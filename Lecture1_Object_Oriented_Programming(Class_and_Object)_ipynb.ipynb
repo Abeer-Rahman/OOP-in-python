{
  "nbformat": 4,
  "nbformat_minor": 0,
  "metadata": {
    "colab": {
      "provenance": [],
      "authorship_tag": "ABX9TyOLmv8imnHHl3LzAIANSMnJ",
      "include_colab_link": true
    },
    "kernelspec": {
      "name": "python3",
      "display_name": "Python 3"
    },
    "language_info": {
      "name": "python"
    }
  },
  "cells": [
    {
      "cell_type": "markdown",
      "metadata": {
        "id": "view-in-github",
        "colab_type": "text"
      },
      "source": [
        "<a href=\"https://colab.research.google.com/github/Abeer-Rahman/OOP-in-python/blob/main/Lecture1_Object_Oriented_Programming(Class_and_Object)_ipynb.ipynb\" target=\"_parent\"><img src=\"https://colab.research.google.com/assets/colab-badge.svg\" alt=\"Open In Colab\"/></a>"
      ]
    },
    {
      "cell_type": "markdown",
      "source": [
        "Source:**MIT OCW 6.0001** \"Introduction to Computer Science and Programming in Python\",Fall:2016"
      ],
      "metadata": {
        "id": "OOj8kn6XXOv0"
      }
    },
    {
      "cell_type": "code",
      "execution_count": 2,
      "metadata": {
        "id": "abQMDenPEN41"
      },
      "outputs": [],
      "source": [
        "class Coordinate(object):\n",
        "  #define attributes\n",
        "  def __init__(self,x,y):\n",
        "    self.x=x\n",
        "    self.y=y\n"
      ]
    },
    {
      "cell_type": "markdown",
      "source": [
        "Creating instances of the Coordinate class"
      ],
      "metadata": {
        "id": "Ji-j6jKzXNrF"
      }
    },
    {
      "cell_type": "code",
      "source": [
        "c=Coordinate(3,4)\n",
        "origin=Coordinate(0,0)\n",
        "print(c.x)\n",
        "print(origin.x)"
      ],
      "metadata": {
        "colab": {
          "base_uri": "https://localhost:8080/"
        },
        "id": "wzgqFvBCQSAq",
        "outputId": "8948a89e-6dae-4433-dcf8-32a63637bf84"
      },
      "execution_count": 3,
      "outputs": [
        {
          "output_type": "stream",
          "name": "stdout",
          "text": [
            "3\n",
            "0\n"
          ]
        }
      ]
    },
    {
      "cell_type": "markdown",
      "source": [
        "Data and Procedural attributes in a Class"
      ],
      "metadata": {
        "id": "Qt3S6_TyY0fQ"
      }
    },
    {
      "cell_type": "code",
      "source": [
        "class Coordinate(object):\n",
        "#define attributes\n",
        "  #Data attribute\n",
        "  def __init__(self,x,y):\n",
        "    self.x=x\n",
        "    self.y=y\n",
        "  #Procedural attribute(Method)\n",
        "  def distance(self,other):\n",
        "    x_diff_sqr=(self.x-other.x)**2\n",
        "    y_diff_sqr=(self.y-other.y)**2\n",
        "    return (x_diff_sqr+y_diff_sqr)**0.5\n",
        "\n",
        "c=Coordinate(3,4)\n",
        "zero=Coordinate(0,0)\n",
        "print(zero.distance(c))"
      ],
      "metadata": {
        "colab": {
          "base_uri": "https://localhost:8080/"
        },
        "id": "a5S7OyACS6_G",
        "outputId": "0c0d5594-76ca-4a24-9f55-b71489c74316"
      },
      "execution_count": null,
      "outputs": [
        {
          "output_type": "stream",
          "name": "stdout",
          "text": [
            "5.0\n"
          ]
        }
      ]
    },
    {
      "cell_type": "code",
      "source": [
        "class Coordinate(object):\n",
        "#define attributes\n",
        "  #Data attribute\n",
        "  def __init__(self,x,y):\n",
        "    self.x=x\n",
        "    self.y=y\n",
        "  #Procedural attribute(Method)\n",
        "  def distance(self,other):\n",
        "    x_diff_sqr=(self.x-other.x)**2\n",
        "    y_diff_sqr=(self.y-other.y)**2\n",
        "    return (x_diff_sqr+y_diff_sqr)**0.5\n",
        "    #go to block 1\n",
        "\n",
        "  def __str__(self):\n",
        "    return \"<\"+str(self.x)+\",\"+str(self.y)+\">\"\n",
        "\n",
        "#block 1\n",
        "c=Coordinate(3,4)\n",
        "print(c)#give memory location, not very informatiove\n",
        "#go to class for redefining it\n",
        "print(type(c))\n",
        "\n",
        "\n",
        "\n",
        "\n"
      ],
      "metadata": {
        "colab": {
          "base_uri": "https://localhost:8080/"
        },
        "id": "BogvZkLoYeAZ",
        "outputId": "9b53afdb-63d5-4174-baba-f69e5f49155c"
      },
      "execution_count": 4,
      "outputs": [
        {
          "output_type": "stream",
          "name": "stdout",
          "text": [
            "<3,4>\n",
            "<class '__main__.Coordinate'>\n"
          ]
        }
      ]
    },
    {
      "cell_type": "markdown",
      "source": [
        "#EXAMPLE: FRACTIONS\n",
        "\n",
        "1. Create a new type to represent a number as a fraction\n",
        "\n",
        "2. Internal representation is two integers:\n",
        "\n",
        "\n",
        "*   numerator\n",
        "*  denominator\n",
        "\n",
        "3. interface a.k.a. methods a.k.a how to interact with\n",
        "Fraction objects\n",
        "\n",
        "\n",
        "\n",
        "*   add, subtract\n",
        "*   print representation, convert to a float\n",
        "*   invert the fraction\n",
        "\n",
        "\n",
        "\n",
        "\n",
        "\n",
        "\n",
        "\n",
        "\n"
      ],
      "metadata": {
        "id": "Bxz4ZkJBgtnJ"
      }
    },
    {
      "cell_type": "code",
      "source": [
        "class Fraction(object):\n",
        "  def __init__(self,numer,denom):\n",
        "    assert type(numer)==int  and type(denom)==int, 'ints not used'\n",
        "    self.numer=numer\n",
        "    self.denom=denom\n",
        "\n",
        "  def __str__(self):\n",
        "    \"\"\"Returns a string representation of self\"\"\"\n",
        "    return str(self.numer)+\"/\"+str(self.denom)\n",
        "\n",
        "  def __add__(self,other):\n",
        "    \"\"\" Returns a new fraction representing the addition\"\"\"\n",
        "    top=self.numer*other.denom+self.denom*other.numer\n",
        "    bottom=self.denom* other.denom\n",
        "    return Fraction(top,bottom)\n",
        "\n",
        "  def __sub__(self,other):\n",
        "    \"\"\" Returns a fraction representing the subtraction\"\"\"\n",
        "    top=self.numer*other.denom-self.denom*other.numer\n",
        "    bottom=self.denom* other.denom\n",
        "    return Fraction(top,bottom)\n",
        "\n",
        "  def __float__(self):\n",
        "    \"\"\"Returns a floating value for the fraction\"\"\"\n",
        "    return self.numer/self.denom\n",
        "  def inverse(self):\n",
        "    \"\"\"Returns the inverse of the fraction\"\"\"\n",
        "    return Fraction(self.denom,self.numer)\n",
        "\n",
        "\n",
        "\n"
      ],
      "metadata": {
        "id": "oL8SeZYAh9aY"
      },
      "execution_count": null,
      "outputs": []
    },
    {
      "cell_type": "code",
      "source": [
        "a= Fraction(3,4)\n",
        "b=Fraction(4,3)\n",
        "print(a,b)\n",
        "print(a+b)\n",
        "print(a-b)\n",
        "print(float(a+b))\n",
        "inv=a.inverse()\n",
        "print(inv)\n"
      ],
      "metadata": {
        "colab": {
          "base_uri": "https://localhost:8080/"
        },
        "id": "T7_w0yhfQ4Fh",
        "outputId": "dcd56cd5-7620-413c-ee50-387a493028bd"
      },
      "execution_count": null,
      "outputs": [
        {
          "output_type": "stream",
          "name": "stdout",
          "text": [
            "3/4 4/3\n",
            "25/12\n",
            "-7/12\n",
            "2.0833333333333335\n",
            "4/3\n"
          ]
        }
      ]
    },
    {
      "cell_type": "markdown",
      "source": [
        "# Example: Creating a Set class that contains integers"
      ],
      "metadata": {
        "id": "HQugwuG_ZU9g"
      }
    },
    {
      "cell_type": "code",
      "source": [
        "class intSet(object):\n",
        "    \"\"\"\n",
        "    An intSet is a set of integers\n",
        "    The value is represented by a list of ints, self.vals\n",
        "    Each int in the set occurs in self.vals exactly once\n",
        "    \"\"\"\n",
        "\n",
        "    def __init__(self):\n",
        "      \"\"\"Create an empty set of integers\"\"\"\n",
        "      self.vals=[]\n",
        "\n",
        "    def insert(self,e):\n",
        "      \"\"\"\"Assumes e is an integer and inserts e into self \"\"\"\n",
        "      if e not in self.vals:\n",
        "        self.vals.append(e)\n",
        "\n",
        "    def member(self,e):\n",
        "      \"\"\" Assumes e is an integer\n",
        "        Returns True if e is in self, and False otherwise \"\"\"\n",
        "      return e in self.vals\n",
        "\n",
        "    def remove(self,e):\n",
        "      \"\"\" Assumes e is an integer and removes e from self\n",
        "        Raises ValueError if e is not in self \"\"\"\n",
        "\n",
        "      try:\n",
        "        self.remove(e)\n",
        "      except:\n",
        "        raise ValueError(str(e)+\" \"+\"not found\")\n",
        "\n",
        "    def __str__(self):\n",
        "        \"\"\" Returns a string representation of self \"\"\"\n",
        "        self.vals.sort()\n",
        "        return '{' + ','.join([str(e) for e in self.vals]) + '}'"
      ],
      "metadata": {
        "id": "5E7i4UhxWbTs"
      },
      "execution_count": 5,
      "outputs": []
    },
    {
      "cell_type": "code",
      "source": [
        "s = intSet()\n",
        "print(s)\n",
        "s.insert(3)\n",
        "s.insert(4)\n",
        "s.insert(3)\n",
        "print(s)\n",
        "s.member(3)\n",
        "s.member(5)\n",
        "s.insert(6)\n",
        "print(s)\n"
      ],
      "metadata": {
        "colab": {
          "base_uri": "https://localhost:8080/"
        },
        "id": "xWUV8LhEdGkr",
        "outputId": "5004e411-adb2-43af-8567-08f880134aea"
      },
      "execution_count": 9,
      "outputs": [
        {
          "output_type": "stream",
          "name": "stdout",
          "text": [
            "{}\n",
            "{3,4}\n",
            "{3,4,6}\n"
          ]
        }
      ]
    },
    {
      "cell_type": "markdown",
      "source": [
        "Source:**CampusX**: [ OOP Part 1](https://www.youtube.com/watch?v=Trvqq5w7-0Q) | Class & Object | Data Science Mentorship Program(DSMP) 2022-23"
      ],
      "metadata": {
        "id": "oR4CpBM7Z79N"
      }
    },
    {
      "cell_type": "markdown",
      "source": [
        "**Making an ATM machine software**"
      ],
      "metadata": {
        "id": "eg7_56GqbHCw"
      }
    },
    {
      "cell_type": "code",
      "source": [
        "#we need two things(pin and balance)\n",
        "class Atm:\n",
        "\n",
        "  # To make variables inside the class, do it inside the constructor of that class\n",
        "  # constructor is a special function, constructor does not need to be called\n",
        "  # explicitely. Whenever an object is made, code inside the constructor gets\n",
        "  # executed automatically. Every function has to have the paremeter called 'self'\n",
        "  #Inside the class use self to call the functions too\n",
        "\n",
        "  def __init__(self):\n",
        "    self.pin=''\n",
        "    self.balance=0\n",
        "    #print(\"Executed!!!\")\n",
        "    self.menu()\n",
        "\n",
        "\n",
        "  #functionality of Atm\n",
        "  #1.show a Menu\n",
        "  def menu(self):\n",
        "    '''\n",
        "    This will show the user a menu from where the user can\n",
        "    choose the functionality\n",
        "    '''\n",
        "    user_input=input(\"\"\"\n",
        "    Hi,How can I help you?\n",
        "    1.Press 1 to create pin\n",
        "    2.Press 2 to change pin\n",
        "    3.Press 3 to check balance\n",
        "    4.Press 4 to withdraw\n",
        "    5.Anything else to exit\n",
        "    \"\"\")\n",
        "\n",
        "    if user_input=='1':\n",
        "      #create pin\n",
        "      self.create_pin()\n",
        "      self.menu()\n",
        "    elif user_input=='2':\n",
        "      #change pin\n",
        "      self.change_pin()\n",
        "      self.menu()\n",
        "    elif user_input=='3':\n",
        "      #check balnce\n",
        "      self.check_balance()\n",
        "      self.menu()\n",
        "    elif user_input=='4':\n",
        "      #withdraw money\n",
        "      self.withdraw()\n",
        "      self.menu()\n",
        "    else:\n",
        "      print('Thank you for banking with us')\n",
        "      exit()\n",
        "\n",
        "  def create_pin(self):\n",
        "    user_pin=input('Enter your pin')\n",
        "    self.pin=user_pin\n",
        "    user_balance=input('Enter your balance')\n",
        "    self.balance=float(user_balance)\n",
        "    print(\"Pin created Successfully!!!\")\n",
        "\n",
        "\n",
        "  def change_pin(self):\n",
        "    user_pin=input('Enter your current pin:')\n",
        "    if user_pin==self.pin:\n",
        "      new_pin=input('Enter new pin:')\n",
        "      self.pin=new_pin\n",
        "      print(\"Pin changed sucessfully :) \")\n",
        "    else:\n",
        "      print(\"Incorrect pin\")\n",
        "\n",
        "  def check_balance(self):\n",
        "    user_pin=input('Enter Your Pin')\n",
        "    if user_pin==self.pin:\n",
        "      print('Your balance is',self.balance)\n",
        "    else:\n",
        "      print(\"Incorrect pin\")\n",
        "      print(\"Provide the correct pin\")\n",
        "\n",
        "  def withdraw(self):\n",
        "    user_input=(input('Enter you pin'))\n",
        "    if user_input==self.pin:\n",
        "      amount=float(input('Enter the amount to be withdrawn'))\n",
        "      if amount<= self.balance:\n",
        "        self.balance=self.balance-amount\n",
        "        print(\"Withdrawl Successfully.\")\n",
        "        print(\"Current Balance is\", self.balance)\n",
        "        print(\"Thank you for banking with us\")\n",
        "      else:\n",
        "          print(\"Insufficient balance\")\n",
        "    else:\n",
        "      print('Incorrect Pin')\n"
      ],
      "metadata": {
        "id": "QPzCQtBbbX2e"
      },
      "execution_count": 11,
      "outputs": []
    },
    {
      "cell_type": "code",
      "source": [
        "#making an object\n",
        "#object_name=class_name()\n",
        "obt=Atm()"
      ],
      "metadata": {
        "colab": {
          "base_uri": "https://localhost:8080/"
        },
        "id": "6FHaP5PqcJx4",
        "outputId": "9bfd9008-eb19-4e45-a5f4-60bfa529bfa5"
      },
      "execution_count": 12,
      "outputs": [
        {
          "output_type": "stream",
          "name": "stdout",
          "text": [
            "\n",
            "    Hi,How can I help you?\n",
            "    1.Press 1 to create pin\n",
            "    2.Press 2 to change pin\n",
            "    3.Press 3 to check balance\n",
            "    4.Press 4 to withdraw\n",
            "    5.Anything else to exit\n",
            "    1\n",
            "Enter your pin1234\n",
            "Enter your balance1000000\n",
            "Pin created Successfully!!!\n",
            "\n",
            "    Hi,How can I help you?\n",
            "    1.Press 1 to create pin\n",
            "    2.Press 2 to change pin\n",
            "    3.Press 3 to check balance\n",
            "    4.Press 4 to withdraw\n",
            "    5.Anything else to exit\n",
            "    2\n",
            "Enter your current pin:1234\n",
            "Enter new pin:4567\n",
            "Pin changed sucessfully :) \n",
            "\n",
            "    Hi,How can I help you?\n",
            "    1.Press 1 to create pin\n",
            "    2.Press 2 to change pin\n",
            "    3.Press 3 to check balance\n",
            "    4.Press 4 to withdraw\n",
            "    5.Anything else to exit\n",
            "    3\n",
            "Enter Your Pin4567\n",
            "Your balance is 1000000.0\n",
            "\n",
            "    Hi,How can I help you?\n",
            "    1.Press 1 to create pin\n",
            "    2.Press 2 to change pin\n",
            "    3.Press 3 to check balance\n",
            "    4.Press 4 to withdraw\n",
            "    5.Anything else to exit\n",
            "    3\n",
            "Enter Your Pin4567\n",
            "Your balance is 1000000.0\n",
            "\n",
            "    Hi,How can I help you?\n",
            "    1.Press 1 to create pin\n",
            "    2.Press 2 to change pin\n",
            "    3.Press 3 to check balance\n",
            "    4.Press 4 to withdraw\n",
            "    5.Anything else to exit\n",
            "    4\n",
            "Enter you pin4567\n",
            "Enter the amount to be withdrawn2347276491\n",
            "Insufficient balance\n",
            "\n",
            "    Hi,How can I help you?\n",
            "    1.Press 1 to create pin\n",
            "    2.Press 2 to change pin\n",
            "    3.Press 3 to check balance\n",
            "    4.Press 4 to withdraw\n",
            "    5.Anything else to exit\n",
            "    121342\n",
            "Thank you for banking with us\n"
          ]
        }
      ]
    },
    {
      "cell_type": "markdown",
      "source": [],
      "metadata": {
        "id": "xD2DX_vXcnpS"
      }
    },
    {
      "cell_type": "markdown",
      "source": [
        "#Function and Method\n",
        "\n",
        "If a function exists inside a class it is called method\n",
        "##Magic Method\n",
        "\n",
        "`__name__`\n",
        "\n",
        "no need to call,it gets automatically executed upon making the object\n",
        "##constructor\n",
        "\n",
        "Configuration related code is written inside constructor\n",
        "\n",
        "##self\n",
        "\n",
        "self is the object itself(see code below:self id and obj id is same in the memory) .The golden rule of OOP is that only object can call the method. So if a method is inside a class, and it wants to call another method in the same class, it has to do it with self parameter. Object is hiding inside the class, taking an alias as self.\n",
        "\n",
        "\n",
        "\n"
      ],
      "metadata": {
        "id": "Bf7eiTFSvIKa"
      }
    },
    {
      "cell_type": "code",
      "source": [
        "#we need two things(pin and balance)\n",
        "class Atm:\n",
        "\n",
        "  def __init__(self):\n",
        "    self.pin=''\n",
        "    self.balance=0\n",
        "    print(id(self))\n",
        "\n",
        "obj=Atm()\n",
        "id(obj)"
      ],
      "metadata": {
        "colab": {
          "base_uri": "https://localhost:8080/"
        },
        "id": "PPUlYHvAcubx",
        "outputId": "d1d30958-70af-423e-9918-a1929a4d930a"
      },
      "execution_count": 1,
      "outputs": [
        {
          "output_type": "stream",
          "name": "stdout",
          "text": [
            "139903261303920\n"
          ]
        },
        {
          "output_type": "execute_result",
          "data": {
            "text/plain": [
              "139903261303920"
            ]
          },
          "metadata": {},
          "execution_count": 1
        }
      ]
    }
  ]
}