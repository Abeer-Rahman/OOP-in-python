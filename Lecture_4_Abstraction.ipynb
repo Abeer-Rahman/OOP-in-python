{
  "nbformat": 4,
  "nbformat_minor": 0,
  "metadata": {
    "colab": {
      "provenance": [],
      "authorship_tag": "ABX9TyNh0fsDIVaiRXsZPt83DQJ3",
      "include_colab_link": true
    },
    "kernelspec": {
      "name": "python3",
      "display_name": "Python 3"
    },
    "language_info": {
      "name": "python"
    }
  },
  "cells": [
    {
      "cell_type": "markdown",
      "metadata": {
        "id": "view-in-github",
        "colab_type": "text"
      },
      "source": [
        "<a href=\"https://colab.research.google.com/github/Abeer-Rahman/OOP-in-python/blob/main/Lecture_4_Abstraction.ipynb\" target=\"_parent\"><img src=\"https://colab.research.google.com/assets/colab-badge.svg\" alt=\"Open In Colab\"/></a>"
      ]
    },
    {
      "cell_type": "markdown",
      "source": [
        "We are going to make two classes. The MobileApp class is inherited from the BankApp class."
      ],
      "metadata": {
        "id": "g6j1Fj-m9_77"
      }
    },
    {
      "cell_type": "code",
      "execution_count": 2,
      "metadata": {
        "id": "olCsIxJYc9-9"
      },
      "outputs": [],
      "source": [
        "#from abstract base class\n",
        "from abc import ABC,abstractmethod\n",
        "class BankApp(ABC): #Abstract class\n",
        "  def database(self):\n",
        "    print(\"Database connected\")\n",
        "  @abstractmethod #forcing the child class to create the security method\n",
        "  def security(self):\n",
        "    pass\n"
      ]
    },
    {
      "cell_type": "markdown",
      "source": [
        "Until and unless we add security method to the child class (MobileApp) will not be executed"
      ],
      "metadata": {
        "id": "gbADDA6i96Zk"
      }
    },
    {
      "cell_type": "code",
      "source": [
        "class MobileApp(BankApp):\n",
        "  def mobile_login(self):\n",
        "    print('Logged into mobile')\n",
        "\n",
        "obj=MobileApp()\n",
        "\n",
        "\n"
      ],
      "metadata": {
        "id": "l3bhkwvn6OJ4",
        "colab": {
          "base_uri": "https://localhost:8080/",
          "height": 220
        },
        "outputId": "81401263-1ee1-49ca-ddd6-b42d46c229a2"
      },
      "execution_count": 3,
      "outputs": [
        {
          "output_type": "error",
          "ename": "TypeError",
          "evalue": "Can't instantiate abstract class MobileApp with abstract method security",
          "traceback": [
            "\u001b[0;31m---------------------------------------------------------------------------\u001b[0m",
            "\u001b[0;31mTypeError\u001b[0m                                 Traceback (most recent call last)",
            "\u001b[0;32m<ipython-input-3-78598be23873>\u001b[0m in \u001b[0;36m<cell line: 5>\u001b[0;34m()\u001b[0m\n\u001b[1;32m      3\u001b[0m     \u001b[0mprint\u001b[0m\u001b[0;34m(\u001b[0m\u001b[0;34m'Logged into mobile'\u001b[0m\u001b[0;34m)\u001b[0m\u001b[0;34m\u001b[0m\u001b[0;34m\u001b[0m\u001b[0m\n\u001b[1;32m      4\u001b[0m \u001b[0;34m\u001b[0m\u001b[0m\n\u001b[0;32m----> 5\u001b[0;31m \u001b[0mobj\u001b[0m\u001b[0;34m=\u001b[0m\u001b[0mMobileApp\u001b[0m\u001b[0;34m(\u001b[0m\u001b[0;34m)\u001b[0m\u001b[0;34m\u001b[0m\u001b[0;34m\u001b[0m\u001b[0m\n\u001b[0m\u001b[1;32m      6\u001b[0m \u001b[0;34m\u001b[0m\u001b[0m\n\u001b[1;32m      7\u001b[0m \u001b[0;34m\u001b[0m\u001b[0m\n",
            "\u001b[0;31mTypeError\u001b[0m: Can't instantiate abstract class MobileApp with abstract method security"
          ]
        }
      ]
    },
    {
      "cell_type": "code",
      "source": [
        "class MobileApp(BankApp):\n",
        "  def mobile_login(self):\n",
        "    print('Logged into mobile')\n",
        "\n",
        "  def security(self):\n",
        "    print('mobile security')\n",
        "\n",
        "\n",
        "\n",
        "obj=MobileApp()\n",
        "obj.mobile_login()\n",
        "obj.security()"
      ],
      "metadata": {
        "id": "Y4dNT9n07l-L",
        "colab": {
          "base_uri": "https://localhost:8080/"
        },
        "outputId": "23e818f0-eccc-479c-923e-47bc31d3e5b5"
      },
      "execution_count": 6,
      "outputs": [
        {
          "output_type": "stream",
          "name": "stdout",
          "text": [
            "Logged into mobile\n",
            "mobile security\n"
          ]
        }
      ]
    }
  ]
}