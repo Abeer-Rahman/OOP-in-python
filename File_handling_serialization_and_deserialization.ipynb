{
  "nbformat": 4,
  "nbformat_minor": 0,
  "metadata": {
    "colab": {
      "provenance": [],
      "authorship_tag": "ABX9TyOfc4HDDCDt/Q5Wxt2f0SCK",
      "include_colab_link": true
    },
    "kernelspec": {
      "name": "python3",
      "display_name": "Python 3"
    },
    "language_info": {
      "name": "python"
    }
  },
  "cells": [
    {
      "cell_type": "markdown",
      "metadata": {
        "id": "view-in-github",
        "colab_type": "text"
      },
      "source": [
        "<a href=\"https://colab.research.google.com/github/Abeer-Rahman/OOP-in-python/blob/main/File_handling_serialization_and_deserialization.ipynb\" target=\"_parent\"><img src=\"https://colab.research.google.com/assets/colab-badge.svg\" alt=\"Open In Colab\"/></a>"
      ]
    },
    {
      "cell_type": "markdown",
      "source": [
        "##Types of data used for I/O:  2 Types\n",
        "* Text: In python every string is a sequence of unicode characters\n",
        "* Binary: A sequence of bits as its binary equivalent\n",
        "\n",
        "So . there will be two types of files to deal with:\n",
        "\n",
        "1. Text files: All program files\n",
        "2. Binary file: Audio,Video,Images, exe etc."
      ],
      "metadata": {
        "id": "GmzpbRwTXFbE"
      }
    },
    {
      "cell_type": "markdown",
      "source": [
        "##File handling steps in programming languages\n",
        "\n",
        "3 steps:\n",
        "1. Open the file\n",
        "2. Read/Write the file\n",
        "3. close the file\n"
      ],
      "metadata": {
        "id": "AsIc7rR3ZUi7"
      }
    },
    {
      "cell_type": "markdown",
      "source": [
        "##Writing to a File (text file)"
      ],
      "metadata": {
        "id": "teZEAvhHaDWT"
      }
    },
    {
      "cell_type": "code",
      "execution_count": null,
      "metadata": {
        "id": "RrYDFcY_OoSH",
        "colab": {
          "base_uri": "https://localhost:8080/"
        },
        "outputId": "d1fab885-0771-4fb6-a99c-b7286db938dd"
      },
      "outputs": [
        {
          "output_type": "execute_result",
          "data": {
            "text/plain": [
              "11"
            ]
          },
          "metadata": {},
          "execution_count": 1
        }
      ],
      "source": [
        "#case 1: If the file doesn't exist\n",
        "\n",
        "#call the open function\n",
        "f=open('sample.txt','w')\n",
        "f.write(\"Hello world\")"
      ]
    },
    {
      "cell_type": "markdown",
      "source": [
        "##No operation can be done on closed file"
      ],
      "metadata": {
        "id": "CBNlCiQAvebO"
      }
    },
    {
      "cell_type": "code",
      "source": [
        "f.close()\n",
        "f.write(\"hello\")"
      ],
      "metadata": {
        "colab": {
          "base_uri": "https://localhost:8080/",
          "height": 165
        },
        "id": "1nIC0Kl7wN3R",
        "outputId": "1241c326-24fa-4025-a3e7-768c929edaa1"
      },
      "execution_count": null,
      "outputs": [
        {
          "output_type": "error",
          "ename": "ValueError",
          "evalue": "I/O operation on closed file.",
          "traceback": [
            "\u001b[0;31m---------------------------------------------------------------------------\u001b[0m",
            "\u001b[0;31mValueError\u001b[0m                                Traceback (most recent call last)",
            "\u001b[0;32m<ipython-input-3-ce21b1894ecc>\u001b[0m in \u001b[0;36m<cell line: 2>\u001b[0;34m()\u001b[0m\n\u001b[1;32m      1\u001b[0m \u001b[0mf\u001b[0m\u001b[0;34m.\u001b[0m\u001b[0mclose\u001b[0m\u001b[0;34m(\u001b[0m\u001b[0;34m)\u001b[0m\u001b[0;34m\u001b[0m\u001b[0;34m\u001b[0m\u001b[0m\n\u001b[0;32m----> 2\u001b[0;31m \u001b[0mf\u001b[0m\u001b[0;34m.\u001b[0m\u001b[0mwrite\u001b[0m\u001b[0;34m(\u001b[0m\u001b[0;34m\"hello\"\u001b[0m\u001b[0;34m)\u001b[0m\u001b[0;34m\u001b[0m\u001b[0;34m\u001b[0m\u001b[0m\n\u001b[0m",
            "\u001b[0;31mValueError\u001b[0m: I/O operation on closed file."
          ]
        }
      ]
    },
    {
      "cell_type": "markdown",
      "source": [
        "##Writng multiple lines in the file\n",
        "\n"
      ],
      "metadata": {
        "id": "bHXwDoxPwHIy"
      }
    },
    {
      "cell_type": "code",
      "source": [
        "f=open(\"sample_1.txt\",'w')\n",
        "f.write(\"Hello!!!\")\n",
        "f.write(\"\\n How are you?\")\n",
        "f.close()\n",
        "\n"
      ],
      "metadata": {
        "id": "pDF_gIt5xqWx"
      },
      "execution_count": null,
      "outputs": []
    },
    {
      "cell_type": "code",
      "source": [
        "#writing to an existing file(sample)\n",
        "f=open('/content/sample.txt','w')\n",
        "f.write(\"Just here to write in the file again\")\n",
        "f.close()\n",
        "#previous contents in the file got overrode"
      ],
      "metadata": {
        "id": "PySs8Bs3yk9V"
      },
      "execution_count": null,
      "outputs": []
    },
    {
      "cell_type": "markdown",
      "source": [
        "##How open(filename,mode) works\n",
        "\n",
        "A file is in the hard drive So, the file is in the ROM,but not in the RAM. The open() function load the file into a buffer memory and the we can perform ny operation on the file till we close it. After closing the file it gets back to the ROM."
      ],
      "metadata": {
        "id": "rkpxJc0LzsPc"
      }
    },
    {
      "cell_type": "markdown",
      "source": [
        "##Writing new content to the existing file while keeping the old content"
      ],
      "metadata": {
        "id": "rm1ncR0U3wjD"
      }
    },
    {
      "cell_type": "code",
      "source": [
        "f=open('sample_1.txt','a') #append mode\n",
        "f.write(\"\\n I am Fine\")\n",
        "f.close()"
      ],
      "metadata": {
        "id": "MF-E8VKk38rp"
      },
      "execution_count": null,
      "outputs": []
    },
    {
      "cell_type": "markdown",
      "source": [
        "##Writing multiple lines in a single go"
      ],
      "metadata": {
        "id": "vicGNk0e42lx"
      }
    },
    {
      "cell_type": "code",
      "source": [
        "L=['Hi !!!\\n','How are you?','\\n I am fine.','\\n What about you?']\n",
        "f=open('sample.txt','w')\n",
        "f.writelines(L) #using writelines method\n",
        "f.close()"
      ],
      "metadata": {
        "id": "5TMiI7Bc47k4"
      },
      "execution_count": null,
      "outputs": []
    },
    {
      "cell_type": "markdown",
      "source": [
        "##Reading files with read() and readline()"
      ],
      "metadata": {
        "id": "cF1HkPtB47O9"
      }
    },
    {
      "cell_type": "code",
      "source": [
        "#reading the sample.txt file\n",
        "f=open('sample.txt','r')\n",
        "s=f.read()\n",
        "f.close()\n",
        "print(s)\n",
        "#returns the content in str format\n",
        "print(type(s))\n"
      ],
      "metadata": {
        "colab": {
          "base_uri": "https://localhost:8080/"
        },
        "id": "GTEjqXKn7IQI",
        "outputId": "681829b5-2257-4262-dc17-5d21b7628468"
      },
      "execution_count": null,
      "outputs": [
        {
          "output_type": "stream",
          "name": "stdout",
          "text": [
            "Hi !!!\n",
            "How are you?\n",
            " I am fine.\n",
            " What about you?\n",
            "<class 'str'>\n"
          ]
        }
      ]
    },
    {
      "cell_type": "code",
      "source": [
        "#reading part of the file\n",
        "#reading the sample.txt file\n",
        "f=open('sample.txt','r')\n",
        "s=f.read(10) #reading 1st 10 characters\n",
        "f.close()\n",
        "print(s)"
      ],
      "metadata": {
        "colab": {
          "base_uri": "https://localhost:8080/"
        },
        "id": "XFTJ5DEb76qY",
        "outputId": "c24d3c84-092f-458b-9466-d1e28457e5ed"
      },
      "execution_count": null,
      "outputs": [
        {
          "output_type": "stream",
          "name": "stdout",
          "text": [
            "Hi !!!\n",
            "How\n"
          ]
        }
      ]
    },
    {
      "cell_type": "code",
      "source": [
        "#Reading the file line by line with readline()\n",
        "\n",
        "f=open('sample.txt','r')\n",
        "first_line=f.readline() #prints 1st line\n",
        "second_line=f.readline() #prints 2nd line\n",
        "f.close()\n",
        "\n",
        "print(first_line)\n",
        "print(second_line)\n",
        "\n",
        "print(type(first_line))\n",
        "\n",
        "#buffer keeps track of the processed characters\n"
      ],
      "metadata": {
        "colab": {
          "base_uri": "https://localhost:8080/"
        },
        "id": "LeiRJKX_8Wb7",
        "outputId": "9da457b4-87bd-47b8-8ca5-d6116eef0d55"
      },
      "execution_count": null,
      "outputs": [
        {
          "output_type": "stream",
          "name": "stdout",
          "text": [
            "Hi !!!\n",
            "\n",
            "How are you?\n",
            "\n",
            "<class 'str'>\n"
          ]
        }
      ]
    },
    {
      "cell_type": "markdown",
      "source": [
        "Both readline() and print() add a newline. If we want to print without any extra line we can do the following"
      ],
      "metadata": {
        "id": "w1Ys1d6k9w2J"
      }
    },
    {
      "cell_type": "code",
      "source": [
        "f=open('sample.txt','r')\n",
        "first_line=f.readline() #prints 1st line\n",
        "second_line=f.readline() #prints 2nd line\n",
        "f.close()\n",
        "\n",
        "print(first_line,end='')\n",
        "print(second_line,end='')"
      ],
      "metadata": {
        "colab": {
          "base_uri": "https://localhost:8080/"
        },
        "id": "Kyiv3COV-Qnr",
        "outputId": "b8f7b9ed-1f0c-464b-b1b7-eaec53d129bf"
      },
      "execution_count": null,
      "outputs": [
        {
          "output_type": "stream",
          "name": "stdout",
          "text": [
            "Hi !!!\n",
            "How are you?\n"
          ]
        }
      ]
    },
    {
      "cell_type": "code",
      "source": [
        "#reading entire file with readline()\n",
        "\n",
        "f=open('sample.txt','r')\n",
        "while True:\n",
        "  data=f.readline()\n",
        "  if data=='':\n",
        "    break\n",
        "  else:\n",
        "    print(data,end='')\n",
        "f.close()\n"
      ],
      "metadata": {
        "colab": {
          "base_uri": "https://localhost:8080/"
        },
        "id": "OODUmSq5_kJ7",
        "outputId": "75054be4-d9fc-494a-885e-d5336760b4d5"
      },
      "execution_count": null,
      "outputs": [
        {
          "output_type": "stream",
          "name": "stdout",
          "text": [
            "Hi !!!\n",
            "How are you?\n",
            " I am fine.\n",
            " What about you?"
          ]
        }
      ]
    },
    {
      "cell_type": "markdown",
      "source": [
        "##Context Manager\n",
        "In Python, the with statement is used for resource management, and it is commonly used when working with files. The with statement ensures that a file is properly closed after its suite finishes, even if an exception is raised. This makes it a more concise and safer alternative to manually opening and closing files using f.open() and f.close()."
      ],
      "metadata": {
        "id": "t43hFFJrzvp8"
      }
    },
    {
      "cell_type": "code",
      "source": [
        "with open('/content/sample_1.txt','w') as f:\n",
        "  f.write(\"Implementing the 'with' statement\")\n"
      ],
      "metadata": {
        "id": "3q2kFfeF08Gn"
      },
      "execution_count": null,
      "outputs": []
    },
    {
      "cell_type": "code",
      "source": [
        "#file has been automatically closed\n",
        "f.write(\"Hello\")"
      ],
      "metadata": {
        "colab": {
          "base_uri": "https://localhost:8080/",
          "height": 165
        },
        "id": "IfPY25QK1vzw",
        "outputId": "c82e9474-57ce-4f9d-9c96-608b7cad1988"
      },
      "execution_count": null,
      "outputs": [
        {
          "output_type": "error",
          "ename": "ValueError",
          "evalue": "I/O operation on closed file.",
          "traceback": [
            "\u001b[0;31m---------------------------------------------------------------------------\u001b[0m",
            "\u001b[0;31mValueError\u001b[0m                                Traceback (most recent call last)",
            "\u001b[0;32m<ipython-input-15-685c2444b38f>\u001b[0m in \u001b[0;36m<cell line: 2>\u001b[0;34m()\u001b[0m\n\u001b[1;32m      1\u001b[0m \u001b[0;31m#file has been automatically closed\u001b[0m\u001b[0;34m\u001b[0m\u001b[0;34m\u001b[0m\u001b[0m\n\u001b[0;32m----> 2\u001b[0;31m \u001b[0mf\u001b[0m\u001b[0;34m.\u001b[0m\u001b[0mwrite\u001b[0m\u001b[0;34m(\u001b[0m\u001b[0;34m\"Hello\"\u001b[0m\u001b[0;34m)\u001b[0m\u001b[0;34m\u001b[0m\u001b[0;34m\u001b[0m\u001b[0m\n\u001b[0m",
            "\u001b[0;31mValueError\u001b[0m: I/O operation on closed file."
          ]
        }
      ]
    },
    {
      "cell_type": "code",
      "source": [
        "#reading the file with 'with' keyword\n",
        "with open('/content/sample_1.txt','r') as f:\n",
        "  print(f.read())\n"
      ],
      "metadata": {
        "colab": {
          "base_uri": "https://localhost:8080/"
        },
        "id": "e8iTMCCy2DyN",
        "outputId": "8fe0cd82-0371-4126-9662-e58deceaa302"
      },
      "execution_count": null,
      "outputs": [
        {
          "output_type": "stream",
          "name": "stdout",
          "text": [
            "Implementing the 'with' statement\n"
          ]
        }
      ]
    },
    {
      "cell_type": "code",
      "source": [
        "#moving within the file\n",
        "with open('sample.txt','r') as f:\n",
        "  print('1st 10 characters')\n",
        "  print(f.read(10)) # first 10 chars\n",
        "  print('\\n Next 10 characters')\n",
        "  print(f.read(10)) #next 10 chars\n"
      ],
      "metadata": {
        "colab": {
          "base_uri": "https://localhost:8080/"
        },
        "id": "uX19jnzV2wn0",
        "outputId": "86c6efeb-cec3-4d09-fec8-84ea4ebe6cc6"
      },
      "execution_count": null,
      "outputs": [
        {
          "output_type": "stream",
          "name": "stdout",
          "text": [
            "1st 10 characters\n",
            "Hi !!!\n",
            "How\n",
            "\n",
            " Next 10 characters\n",
            " are you?\n",
            "\n"
          ]
        }
      ]
    },
    {
      "cell_type": "markdown",
      "source": [
        "##Benefit is to load large files in chunks"
      ],
      "metadata": {
        "id": "K_z3CLM84ZEg"
      }
    },
    {
      "cell_type": "code",
      "source": [
        "big_L=[\"Hello world\\n\" for i in range(1000)]\n",
        "with open('big.txt','w') as f:\n",
        "  f.writelines(big_L)\n",
        "  #use writelines() not write() because it is list of strings\n"
      ],
      "metadata": {
        "id": "41eFFoUv2wpG"
      },
      "execution_count": null,
      "outputs": []
    },
    {
      "cell_type": "code",
      "source": [
        "#creating buffer\n",
        "with open('big.txt','r') as f:\n",
        "  chunk_size=100\n",
        "  while len(f.read(chunk_size)) >0:\n",
        "    print(f.read(chunk_size),end='*************')\n",
        "    f.read(chunk_size)"
      ],
      "metadata": {
        "colab": {
          "base_uri": "https://localhost:8080/"
        },
        "id": "PbDDuqAm5ufD",
        "outputId": "f2821509-021f-432f-cd16-44c86d80f132"
      },
      "execution_count": null,
      "outputs": [
        {
          "output_type": "stream",
          "name": "stdout",
          "text": [
            "o world\n",
            "Hello world\n",
            "Hello world\n",
            "Hello world\n",
            "Hello world\n",
            "Hello world\n",
            "Hello world\n",
            "Hello world\n",
            "Hello wo*************o world\n",
            "Hello world\n",
            "Hello world\n",
            "Hello world\n",
            "Hello world\n",
            "Hello world\n",
            "Hello world\n",
            "Hello world\n",
            "Hello wo*************o world\n",
            "Hello world\n",
            "Hello world\n",
            "Hello world\n",
            "Hello world\n",
            "Hello world\n",
            "Hello world\n",
            "Hello world\n",
            "Hello wo*************o world\n",
            "Hello world\n",
            "Hello world\n",
            "Hello world\n",
            "Hello world\n",
            "Hello world\n",
            "Hello world\n",
            "Hello world\n",
            "Hello wo*************o world\n",
            "Hello world\n",
            "Hello world\n",
            "Hello world\n",
            "Hello world\n",
            "Hello world\n",
            "Hello world\n",
            "Hello world\n",
            "Hello wo*************o world\n",
            "Hello world\n",
            "Hello world\n",
            "Hello world\n",
            "Hello world\n",
            "Hello world\n",
            "Hello world\n",
            "Hello world\n",
            "Hello wo*************o world\n",
            "Hello world\n",
            "Hello world\n",
            "Hello world\n",
            "Hello world\n",
            "Hello world\n",
            "Hello world\n",
            "Hello world\n",
            "Hello wo*************o world\n",
            "Hello world\n",
            "Hello world\n",
            "Hello world\n",
            "Hello world\n",
            "Hello world\n",
            "Hello world\n",
            "Hello world\n",
            "Hello wo*************o world\n",
            "Hello world\n",
            "Hello world\n",
            "Hello world\n",
            "Hello world\n",
            "Hello world\n",
            "Hello world\n",
            "Hello world\n",
            "Hello wo*************o world\n",
            "Hello world\n",
            "Hello world\n",
            "Hello world\n",
            "Hello world\n",
            "Hello world\n",
            "Hello world\n",
            "Hello world\n",
            "Hello wo*************o world\n",
            "Hello world\n",
            "Hello world\n",
            "Hello world\n",
            "Hello world\n",
            "Hello world\n",
            "Hello world\n",
            "Hello world\n",
            "Hello wo*************o world\n",
            "Hello world\n",
            "Hello world\n",
            "Hello world\n",
            "Hello world\n",
            "Hello world\n",
            "Hello world\n",
            "Hello world\n",
            "Hello wo*************o world\n",
            "Hello world\n",
            "Hello world\n",
            "Hello world\n",
            "Hello world\n",
            "Hello world\n",
            "Hello world\n",
            "Hello world\n",
            "Hello wo*************o world\n",
            "Hello world\n",
            "Hello world\n",
            "Hello world\n",
            "Hello world\n",
            "Hello world\n",
            "Hello world\n",
            "Hello world\n",
            "Hello wo*************o world\n",
            "Hello world\n",
            "Hello world\n",
            "Hello world\n",
            "Hello world\n",
            "Hello world\n",
            "Hello world\n",
            "Hello world\n",
            "Hello wo*************o world\n",
            "Hello world\n",
            "Hello world\n",
            "Hello world\n",
            "Hello world\n",
            "Hello world\n",
            "Hello world\n",
            "Hello world\n",
            "Hello wo*************o world\n",
            "Hello world\n",
            "Hello world\n",
            "Hello world\n",
            "Hello world\n",
            "Hello world\n",
            "Hello world\n",
            "Hello world\n",
            "Hello wo*************o world\n",
            "Hello world\n",
            "Hello world\n",
            "Hello world\n",
            "Hello world\n",
            "Hello world\n",
            "Hello world\n",
            "Hello world\n",
            "Hello wo*************o world\n",
            "Hello world\n",
            "Hello world\n",
            "Hello world\n",
            "Hello world\n",
            "Hello world\n",
            "Hello world\n",
            "Hello world\n",
            "Hello wo*************o world\n",
            "Hello world\n",
            "Hello world\n",
            "Hello world\n",
            "Hello world\n",
            "Hello world\n",
            "Hello world\n",
            "Hello world\n",
            "Hello wo*************o world\n",
            "Hello world\n",
            "Hello world\n",
            "Hello world\n",
            "Hello world\n",
            "Hello world\n",
            "Hello world\n",
            "Hello world\n",
            "Hello wo*************o world\n",
            "Hello world\n",
            "Hello world\n",
            "Hello world\n",
            "Hello world\n",
            "Hello world\n",
            "Hello world\n",
            "Hello world\n",
            "Hello wo*************o world\n",
            "Hello world\n",
            "Hello world\n",
            "Hello world\n",
            "Hello world\n",
            "Hello world\n",
            "Hello world\n",
            "Hello world\n",
            "Hello wo*************o world\n",
            "Hello world\n",
            "Hello world\n",
            "Hello world\n",
            "Hello world\n",
            "Hello world\n",
            "Hello world\n",
            "Hello world\n",
            "Hello wo*************o world\n",
            "Hello world\n",
            "Hello world\n",
            "Hello world\n",
            "Hello world\n",
            "Hello world\n",
            "Hello world\n",
            "Hello world\n",
            "Hello wo*************o world\n",
            "Hello world\n",
            "Hello world\n",
            "Hello world\n",
            "Hello world\n",
            "Hello world\n",
            "Hello world\n",
            "Hello world\n",
            "Hello wo*************o world\n",
            "Hello world\n",
            "Hello world\n",
            "Hello world\n",
            "Hello world\n",
            "Hello world\n",
            "Hello world\n",
            "Hello world\n",
            "Hello wo*************o world\n",
            "Hello world\n",
            "Hello world\n",
            "Hello world\n",
            "Hello world\n",
            "Hello world\n",
            "Hello world\n",
            "Hello world\n",
            "Hello wo*************o world\n",
            "Hello world\n",
            "Hello world\n",
            "Hello world\n",
            "Hello world\n",
            "Hello world\n",
            "Hello world\n",
            "Hello world\n",
            "Hello wo*************o world\n",
            "Hello world\n",
            "Hello world\n",
            "Hello world\n",
            "Hello world\n",
            "Hello world\n",
            "Hello world\n",
            "Hello world\n",
            "Hello wo*************o world\n",
            "Hello world\n",
            "Hello world\n",
            "Hello world\n",
            "Hello world\n",
            "Hello world\n",
            "Hello world\n",
            "Hello world\n",
            "Hello wo*************o world\n",
            "Hello world\n",
            "Hello world\n",
            "Hello world\n",
            "Hello world\n",
            "Hello world\n",
            "Hello world\n",
            "Hello world\n",
            "Hello wo*************o world\n",
            "Hello world\n",
            "Hello world\n",
            "Hello world\n",
            "Hello world\n",
            "Hello world\n",
            "Hello world\n",
            "Hello world\n",
            "Hello wo*************o world\n",
            "Hello world\n",
            "Hello world\n",
            "Hello world\n",
            "Hello world\n",
            "Hello world\n",
            "Hello world\n",
            "Hello world\n",
            "Hello wo*************o world\n",
            "Hello world\n",
            "Hello world\n",
            "Hello world\n",
            "Hello world\n",
            "Hello world\n",
            "Hello world\n",
            "Hello world\n",
            "Hello wo*************o world\n",
            "Hello world\n",
            "Hello world\n",
            "Hello world\n",
            "Hello world\n",
            "Hello world\n",
            "Hello world\n",
            "Hello world\n",
            "Hello wo*************o world\n",
            "Hello world\n",
            "Hello world\n",
            "Hello world\n",
            "Hello world\n",
            "Hello world\n",
            "Hello world\n",
            "Hello world\n",
            "Hello wo*************o world\n",
            "Hello world\n",
            "Hello world\n",
            "Hello world\n",
            "Hello world\n",
            "Hello world\n",
            "Hello world\n",
            "Hello world\n",
            "Hello wo*************o world\n",
            "Hello world\n",
            "Hello world\n",
            "Hello world\n",
            "Hello world\n",
            "Hello world\n",
            "Hello world\n",
            "Hello world\n",
            "Hello wo*************o world\n",
            "Hello world\n",
            "Hello world\n",
            "Hello world\n",
            "Hello world\n",
            "Hello world\n",
            "Hello world\n",
            "Hello world\n",
            "Hello wo*************"
          ]
        }
      ]
    },
    {
      "cell_type": "markdown",
      "source": [
        "##Tell() and seek() function"
      ],
      "metadata": {
        "id": "ZqeZeTwD5t1z"
      }
    },
    {
      "cell_type": "code",
      "source": [
        "with open('sample.txt','r') as f:\n",
        "  print(f.read(10))\n",
        "  print(f.tell())\n",
        "  # tells the index of the next character\n",
        "  #in other words, how many chars have been processed"
      ],
      "metadata": {
        "colab": {
          "base_uri": "https://localhost:8080/"
        },
        "id": "T79n94xq6XBF",
        "outputId": "7de38f05-9d81-41fc-e1e0-a6265acdd685"
      },
      "execution_count": null,
      "outputs": [
        {
          "output_type": "stream",
          "name": "stdout",
          "text": [
            "Hi !!!\n",
            "How\n",
            "10\n"
          ]
        }
      ]
    },
    {
      "cell_type": "markdown",
      "source": [
        "## The seek() function\n",
        " In Python seek() is used to change the current file position, also known as the file pointer, within an open file. This function allows us to move the file pointer to a specific location in the file, enabling us to read or write from that position."
      ],
      "metadata": {
        "id": "tMEcCPD09daI"
      }
    },
    {
      "cell_type": "code",
      "source": [
        "#seek() function\n",
        "with open('sample.txt','r') as f:\n",
        "  print(f.read(10)) # prints 1st 10 charecter\n",
        "#The next command instead of printing the next 10 chars it prints from the beginning\n",
        "#Casuse by seek() we have set the file pointer to\n",
        "  print(\"--------------------\")\n",
        "  f.seek(0)\n",
        "  print(f.read(10))"
      ],
      "metadata": {
        "colab": {
          "base_uri": "https://localhost:8080/"
        },
        "id": "Tmr-rYpF82Jg",
        "outputId": "62138bc0-d04d-4500-8d76-5522bbed139e"
      },
      "execution_count": null,
      "outputs": [
        {
          "output_type": "stream",
          "name": "stdout",
          "text": [
            "Hi !!!\n",
            "How\n",
            "--------------------\n",
            "Hi !!!\n",
            "How\n"
          ]
        }
      ]
    },
    {
      "cell_type": "markdown",
      "source": [
        "##Problem with text file\n",
        "Not good at dealing with other data types like int/float/list/tuples etc."
      ],
      "metadata": {
        "id": "V2OtyL3OvFfX"
      }
    },
    {
      "cell_type": "code",
      "source": [
        "with open('soft_kitty.jpg','r') as f:\n",
        "  f.read() #binary file,so not a unicode"
      ],
      "metadata": {
        "colab": {
          "base_uri": "https://localhost:8080/",
          "height": 293
        },
        "id": "hmVcW_3FwC05",
        "outputId": "dd7ce348-e9c0-4abf-a662-fb1710f811a0"
      },
      "execution_count": null,
      "outputs": [
        {
          "output_type": "error",
          "ename": "UnicodeDecodeError",
          "evalue": "'utf-8' codec can't decode byte 0xff in position 0: invalid start byte",
          "traceback": [
            "\u001b[0;31m---------------------------------------------------------------------------\u001b[0m",
            "\u001b[0;31mUnicodeDecodeError\u001b[0m                        Traceback (most recent call last)",
            "\u001b[0;32m<ipython-input-1-25f62be39f95>\u001b[0m in \u001b[0;36m<cell line: 1>\u001b[0;34m()\u001b[0m\n\u001b[1;32m      1\u001b[0m \u001b[0;32mwith\u001b[0m \u001b[0mopen\u001b[0m\u001b[0;34m(\u001b[0m\u001b[0;34m'soft_kitty.jpg'\u001b[0m\u001b[0;34m,\u001b[0m\u001b[0;34m'r'\u001b[0m\u001b[0;34m)\u001b[0m \u001b[0;32mas\u001b[0m \u001b[0mf\u001b[0m\u001b[0;34m:\u001b[0m\u001b[0;34m\u001b[0m\u001b[0;34m\u001b[0m\u001b[0m\n\u001b[0;32m----> 2\u001b[0;31m   \u001b[0mf\u001b[0m\u001b[0;34m.\u001b[0m\u001b[0mread\u001b[0m\u001b[0;34m(\u001b[0m\u001b[0;34m)\u001b[0m\u001b[0;34m\u001b[0m\u001b[0;34m\u001b[0m\u001b[0m\n\u001b[0m",
            "\u001b[0;32m/usr/lib/python3.10/codecs.py\u001b[0m in \u001b[0;36mdecode\u001b[0;34m(self, input, final)\u001b[0m\n\u001b[1;32m    320\u001b[0m         \u001b[0;31m# decode input (taking the buffer into account)\u001b[0m\u001b[0;34m\u001b[0m\u001b[0;34m\u001b[0m\u001b[0m\n\u001b[1;32m    321\u001b[0m         \u001b[0mdata\u001b[0m \u001b[0;34m=\u001b[0m \u001b[0mself\u001b[0m\u001b[0;34m.\u001b[0m\u001b[0mbuffer\u001b[0m \u001b[0;34m+\u001b[0m \u001b[0minput\u001b[0m\u001b[0;34m\u001b[0m\u001b[0;34m\u001b[0m\u001b[0m\n\u001b[0;32m--> 322\u001b[0;31m         \u001b[0;34m(\u001b[0m\u001b[0mresult\u001b[0m\u001b[0;34m,\u001b[0m \u001b[0mconsumed\u001b[0m\u001b[0;34m)\u001b[0m \u001b[0;34m=\u001b[0m \u001b[0mself\u001b[0m\u001b[0;34m.\u001b[0m\u001b[0m_buffer_decode\u001b[0m\u001b[0;34m(\u001b[0m\u001b[0mdata\u001b[0m\u001b[0;34m,\u001b[0m \u001b[0mself\u001b[0m\u001b[0;34m.\u001b[0m\u001b[0merrors\u001b[0m\u001b[0;34m,\u001b[0m \u001b[0mfinal\u001b[0m\u001b[0;34m)\u001b[0m\u001b[0;34m\u001b[0m\u001b[0;34m\u001b[0m\u001b[0m\n\u001b[0m\u001b[1;32m    323\u001b[0m         \u001b[0;31m# keep undecoded input until the next call\u001b[0m\u001b[0;34m\u001b[0m\u001b[0;34m\u001b[0m\u001b[0m\n\u001b[1;32m    324\u001b[0m         \u001b[0mself\u001b[0m\u001b[0;34m.\u001b[0m\u001b[0mbuffer\u001b[0m \u001b[0;34m=\u001b[0m \u001b[0mdata\u001b[0m\u001b[0;34m[\u001b[0m\u001b[0mconsumed\u001b[0m\u001b[0;34m:\u001b[0m\u001b[0;34m]\u001b[0m\u001b[0;34m\u001b[0m\u001b[0;34m\u001b[0m\u001b[0m\n",
            "\u001b[0;31mUnicodeDecodeError\u001b[0m: 'utf-8' codec can't decode byte 0xff in position 0: invalid start byte"
          ]
        }
      ]
    },
    {
      "cell_type": "code",
      "source": [
        "#working with binary file\n",
        "#We will make a copy of the binary file(soft_kitty)\n",
        "#opening the file in 'rb' mode ('rb'=read binary)\n",
        "with open('soft_kitty.jpg','rb') as f:\n",
        "  #openning for writing\n",
        "  with open('soft_kitty_copy.jpg','wb') as wb:\n",
        "    wb.write(f.read())\n",
        "\n",
        "\n",
        "\n"
      ],
      "metadata": {
        "id": "udDeqYxCwcy7"
      },
      "execution_count": null,
      "outputs": []
    },
    {
      "cell_type": "markdown",
      "source": [
        "##Serialization and Deserialization\n",
        "* Serialization: Converting python data(except tuple) type to JSON (Java Script on Notation) format. JSON is an universal data type that all programming languages understand. API uses JSON.\n",
        "* Deserialization: Oposite to serialization"
      ],
      "metadata": {
        "id": "D1BoIloA06Sj"
      }
    },
    {
      "cell_type": "code",
      "source": [
        "#serialization with json module\n",
        "#converting list to json\n",
        "import json\n",
        "l=[1,2,3,4]\n",
        "with open('demo.json','w') as f:\n",
        "  #the dump() method in the json module has two arguments(dump_object,file_handler_object)\n",
        "  json.dump(l,f)\n"
      ],
      "metadata": {
        "id": "ckBUH-BM1Cko"
      },
      "execution_count": null,
      "outputs": []
    },
    {
      "cell_type": "code",
      "source": [
        "#converting dictionary to json\n",
        "d={\n",
        "    \"name\":\"Alice\",\n",
        "    \"age\":25,\n",
        "    \"gender\":\"Female\"\n",
        "\n",
        "}\n",
        "import json\n",
        "with open('dictionary.json','w') as f:\n",
        "  json.dump(d,f,indent=4) #indent for better representation"
      ],
      "metadata": {
        "id": "PPF3n0A13r2f"
      },
      "execution_count": null,
      "outputs": []
    },
    {
      "cell_type": "code",
      "source": [
        "#Deserialization\n",
        "with open('dictionary.json','r') as f:\n",
        "  dic=json.load(f)\n",
        "\n",
        "print(dic)\n",
        "#no need to do type conversion\n",
        "print(type(dic))"
      ],
      "metadata": {
        "colab": {
          "base_uri": "https://localhost:8080/"
        },
        "id": "pUJpMuai3r1e",
        "outputId": "27ab64b1-b575-4e35-d209-4cedb0930580"
      },
      "execution_count": null,
      "outputs": [
        {
          "output_type": "stream",
          "name": "stdout",
          "text": [
            "{'name': 'Alice', 'age': 25, 'gender': 'Female'}\n",
            "<class 'dict'>\n"
          ]
        }
      ]
    },
    {
      "cell_type": "code",
      "source": [
        "import json\n",
        "with open('demo.json','r') as f:\n",
        "  x=json.load(f)\n",
        "print(x)\n",
        "print(type(x))"
      ],
      "metadata": {
        "colab": {
          "base_uri": "https://localhost:8080/"
        },
        "id": "T5XqMQ5hFJjO",
        "outputId": "df1d31c1-f489-4472-8097-a61662744b19"
      },
      "execution_count": null,
      "outputs": [
        {
          "output_type": "stream",
          "name": "stdout",
          "text": [
            "[1, 2, 3, 4]\n",
            "<class 'list'>\n"
          ]
        }
      ]
    },
    {
      "cell_type": "markdown",
      "source": [
        "##Serializing and Deserealizing Custom Objects\n",
        "\n",
        "\n",
        "\n"
      ],
      "metadata": {
        "id": "-XKTAzXf06YP"
      }
    },
    {
      "cell_type": "code",
      "source": [
        "class Person:\n",
        "  def __init__(self,fname,lname,age,gender):\n",
        "    self.fname=fname\n",
        "    self.lname=lname\n",
        "    self.age=age\n",
        "    self.gender=gender\n",
        "\n",
        "person=Person('Bob','Martin',30,'Male')\n",
        "#has to dump this object in a json file as follows\n",
        "#Bob Martin:age-->30,gender-->Male"
      ],
      "metadata": {
        "id": "-wHHLQGS95dc"
      },
      "execution_count": null,
      "outputs": []
    },
    {
      "cell_type": "code",
      "source": [
        "import json\n",
        "with open('custom_class.json','w') as f:\n",
        "  json.dump(person,f)"
      ],
      "metadata": {
        "colab": {
          "base_uri": "https://localhost:8080/",
          "height": 335
        },
        "id": "_-FxmJwp_LCo",
        "outputId": "33698271-7688-42a9-dc17-8f5272065516"
      },
      "execution_count": null,
      "outputs": [
        {
          "output_type": "error",
          "ename": "TypeError",
          "evalue": "Object of type Person is not JSON serializable",
          "traceback": [
            "\u001b[0;31m---------------------------------------------------------------------------\u001b[0m",
            "\u001b[0;31mTypeError\u001b[0m                                 Traceback (most recent call last)",
            "\u001b[0;32m<ipython-input-27-2ea771d1be46>\u001b[0m in \u001b[0;36m<cell line: 2>\u001b[0;34m()\u001b[0m\n\u001b[1;32m      1\u001b[0m \u001b[0;32mimport\u001b[0m \u001b[0mjson\u001b[0m\u001b[0;34m\u001b[0m\u001b[0;34m\u001b[0m\u001b[0m\n\u001b[1;32m      2\u001b[0m \u001b[0;32mwith\u001b[0m \u001b[0mopen\u001b[0m\u001b[0;34m(\u001b[0m\u001b[0;34m'custom_class.json'\u001b[0m\u001b[0;34m,\u001b[0m\u001b[0;34m'w'\u001b[0m\u001b[0;34m)\u001b[0m \u001b[0;32mas\u001b[0m \u001b[0mf\u001b[0m\u001b[0;34m:\u001b[0m\u001b[0;34m\u001b[0m\u001b[0;34m\u001b[0m\u001b[0m\n\u001b[0;32m----> 3\u001b[0;31m   \u001b[0mjson\u001b[0m\u001b[0;34m.\u001b[0m\u001b[0mdump\u001b[0m\u001b[0;34m(\u001b[0m\u001b[0mperson\u001b[0m\u001b[0;34m,\u001b[0m\u001b[0mf\u001b[0m\u001b[0;34m)\u001b[0m\u001b[0;34m\u001b[0m\u001b[0;34m\u001b[0m\u001b[0m\n\u001b[0m",
            "\u001b[0;32m/usr/lib/python3.10/json/__init__.py\u001b[0m in \u001b[0;36mdump\u001b[0;34m(obj, fp, skipkeys, ensure_ascii, check_circular, allow_nan, cls, indent, separators, default, sort_keys, **kw)\u001b[0m\n\u001b[1;32m    177\u001b[0m     \u001b[0;31m# could accelerate with writelines in some versions of Python, at\u001b[0m\u001b[0;34m\u001b[0m\u001b[0;34m\u001b[0m\u001b[0m\n\u001b[1;32m    178\u001b[0m     \u001b[0;31m# a debuggability cost\u001b[0m\u001b[0;34m\u001b[0m\u001b[0;34m\u001b[0m\u001b[0m\n\u001b[0;32m--> 179\u001b[0;31m     \u001b[0;32mfor\u001b[0m \u001b[0mchunk\u001b[0m \u001b[0;32min\u001b[0m \u001b[0miterable\u001b[0m\u001b[0;34m:\u001b[0m\u001b[0;34m\u001b[0m\u001b[0;34m\u001b[0m\u001b[0m\n\u001b[0m\u001b[1;32m    180\u001b[0m         \u001b[0mfp\u001b[0m\u001b[0;34m.\u001b[0m\u001b[0mwrite\u001b[0m\u001b[0;34m(\u001b[0m\u001b[0mchunk\u001b[0m\u001b[0;34m)\u001b[0m\u001b[0;34m\u001b[0m\u001b[0;34m\u001b[0m\u001b[0m\n\u001b[1;32m    181\u001b[0m \u001b[0;34m\u001b[0m\u001b[0m\n",
            "\u001b[0;32m/usr/lib/python3.10/json/encoder.py\u001b[0m in \u001b[0;36m_iterencode\u001b[0;34m(o, _current_indent_level)\u001b[0m\n\u001b[1;32m    436\u001b[0m                     \u001b[0;32mraise\u001b[0m \u001b[0mValueError\u001b[0m\u001b[0;34m(\u001b[0m\u001b[0;34m\"Circular reference detected\"\u001b[0m\u001b[0;34m)\u001b[0m\u001b[0;34m\u001b[0m\u001b[0;34m\u001b[0m\u001b[0m\n\u001b[1;32m    437\u001b[0m                 \u001b[0mmarkers\u001b[0m\u001b[0;34m[\u001b[0m\u001b[0mmarkerid\u001b[0m\u001b[0;34m]\u001b[0m \u001b[0;34m=\u001b[0m \u001b[0mo\u001b[0m\u001b[0;34m\u001b[0m\u001b[0;34m\u001b[0m\u001b[0m\n\u001b[0;32m--> 438\u001b[0;31m             \u001b[0mo\u001b[0m \u001b[0;34m=\u001b[0m \u001b[0m_default\u001b[0m\u001b[0;34m(\u001b[0m\u001b[0mo\u001b[0m\u001b[0;34m)\u001b[0m\u001b[0;34m\u001b[0m\u001b[0;34m\u001b[0m\u001b[0m\n\u001b[0m\u001b[1;32m    439\u001b[0m             \u001b[0;32myield\u001b[0m \u001b[0;32mfrom\u001b[0m \u001b[0m_iterencode\u001b[0m\u001b[0;34m(\u001b[0m\u001b[0mo\u001b[0m\u001b[0;34m,\u001b[0m \u001b[0m_current_indent_level\u001b[0m\u001b[0;34m)\u001b[0m\u001b[0;34m\u001b[0m\u001b[0;34m\u001b[0m\u001b[0m\n\u001b[1;32m    440\u001b[0m             \u001b[0;32mif\u001b[0m \u001b[0mmarkers\u001b[0m \u001b[0;32mis\u001b[0m \u001b[0;32mnot\u001b[0m \u001b[0;32mNone\u001b[0m\u001b[0;34m:\u001b[0m\u001b[0;34m\u001b[0m\u001b[0;34m\u001b[0m\u001b[0m\n",
            "\u001b[0;32m/usr/lib/python3.10/json/encoder.py\u001b[0m in \u001b[0;36mdefault\u001b[0;34m(self, o)\u001b[0m\n\u001b[1;32m    177\u001b[0m \u001b[0;34m\u001b[0m\u001b[0m\n\u001b[1;32m    178\u001b[0m         \"\"\"\n\u001b[0;32m--> 179\u001b[0;31m         raise TypeError(f'Object of type {o.__class__.__name__} '\n\u001b[0m\u001b[1;32m    180\u001b[0m                         f'is not JSON serializable')\n\u001b[1;32m    181\u001b[0m \u001b[0;34m\u001b[0m\u001b[0m\n",
            "\u001b[0;31mTypeError\u001b[0m: Object of type Person is not JSON serializable"
          ]
        }
      ]
    },
    {
      "cell_type": "code",
      "source": [
        "#need to tell python how to serialize the custom object\n",
        "\n",
        "import json\n",
        "\n",
        "#function for custom object serialization\n",
        "def show_object(person):\n",
        "  if isinstance(person,Person):\n",
        "    return \"{} {}: Age-->{}, Gender-->{}\".format(person.fname,person.lname,person.age,person.gender)\n",
        "\n",
        "import json\n",
        "with open('custom_class.json','w') as f:\n",
        "  json.dump(person,f,default=show_object)"
      ],
      "metadata": {
        "id": "ykG_zZV3_pud"
      },
      "execution_count": null,
      "outputs": []
    },
    {
      "cell_type": "code",
      "source": [
        "#in dictionary format\n",
        "#need to tell python how to serialize the custom object\n",
        "\n",
        "import json\n",
        "\n",
        "#function for custom object serialization\n",
        "def show_object(person):\n",
        "  if isinstance(person,Person):\n",
        "    return {\n",
        "        'Name':person.fname+' '+person.lname,\n",
        "        'Age':person.age,\n",
        "        'Gender':person.gender\n",
        "    }\n",
        "\n",
        "import json\n",
        "with open('custom_class_as_dict.json','w') as f:\n",
        "  json.dump(person,f,default=show_object,indent=4)\n"
      ],
      "metadata": {
        "id": "c57s9u-iCViY"
      },
      "execution_count": null,
      "outputs": []
    },
    {
      "cell_type": "code",
      "source": [
        "#deserialization of the custom object\n",
        "import json\n",
        "with open('custom_class.json','r') as f:\n",
        "  output=json.load(f)\n",
        "print(output)\n",
        "print(type(output))\n"
      ],
      "metadata": {
        "colab": {
          "base_uri": "https://localhost:8080/"
        },
        "id": "jPaBLiLoDyVU",
        "outputId": "f700c08c-a5dc-4ff2-ed00-3a772a0ad0f8"
      },
      "execution_count": null,
      "outputs": [
        {
          "output_type": "stream",
          "name": "stdout",
          "text": [
            "Bob Martin: Age-->30, Gender-->Male\n",
            "<class 'str'>\n"
          ]
        }
      ]
    },
    {
      "cell_type": "code",
      "source": [
        "#deserialization of the custom object\n",
        "import json\n",
        "with open('custom_class_as_dict.json','r') as f:\n",
        "  output=json.load(f)\n",
        "print(output)\n",
        "print(type(output))"
      ],
      "metadata": {
        "colab": {
          "base_uri": "https://localhost:8080/"
        },
        "id": "X95a2j0DO9fr",
        "outputId": "52f9931b-e638-4596-87ec-1526c3d39201"
      },
      "execution_count": null,
      "outputs": [
        {
          "output_type": "stream",
          "name": "stdout",
          "text": [
            "{'Name': 'Bob Martin', 'Age': 30, 'Gender': 'Male'}\n",
            "<class 'dict'>\n"
          ]
        }
      ]
    },
    {
      "cell_type": "markdown",
      "source": [
        "##Pickling:\n",
        "But want to recover the object as it is, not as a string or a dictionary. This is done by pickling where a python object is converted into a byte stream. Now that it has become a binary file, it is transferable and can be unpickled in which a binary file is converted back to an object"
      ],
      "metadata": {
        "id": "iBIlNKMhF4lo"
      }
    },
    {
      "cell_type": "markdown",
      "source": [],
      "metadata": {
        "id": "t_4HTKA2PlKm"
      }
    },
    {
      "cell_type": "code",
      "source": [
        "class Person:\n",
        "  def __init__(self,name,age):\n",
        "    self.name=name\n",
        "    self.age=age\n",
        "\n",
        "  def info_display(self):\n",
        "    print(f\"My name is {self.name} and I am {self.age}\")"
      ],
      "metadata": {
        "id": "8L98gc6NG5tW"
      },
      "execution_count": null,
      "outputs": []
    },
    {
      "cell_type": "code",
      "source": [
        "person1=Person('Karen',26)"
      ],
      "metadata": {
        "id": "QUfTfv5XHaDv"
      },
      "execution_count": null,
      "outputs": []
    },
    {
      "cell_type": "code",
      "source": [
        "#converting to binary\n",
        "import pickle\n",
        "with open('person.pkl','wb') as f:\n",
        "  pickle.dump(person1,f)\n",
        "\n"
      ],
      "metadata": {
        "id": "O95w9amFHlIu"
      },
      "execution_count": null,
      "outputs": []
    },
    {
      "cell_type": "code",
      "source": [
        "import pickle\n",
        "with open('person.pkl','rb') as f:\n",
        "  p=pickle.load(f)\n",
        "p.info_display()\n",
        "print(type(p))"
      ],
      "metadata": {
        "colab": {
          "base_uri": "https://localhost:8080/"
        },
        "id": "ejQ2RBeHIYws",
        "outputId": "8e7d2c56-e18a-45dd-e7d1-b0a1b97ddcb6"
      },
      "execution_count": null,
      "outputs": [
        {
          "output_type": "stream",
          "name": "stdout",
          "text": [
            "My name is Karen and I am 26\n",
            "<class '__main__.Person'>\n"
          ]
        }
      ]
    },
    {
      "cell_type": "markdown",
      "source": [
        "##pickle vs json\n",
        "Let the user to store data in binary format, whereas the json stores the data in human readable format\n",
        "\n"
      ],
      "metadata": {
        "id": "qduLLm3bKQfl"
      }
    }
  ]
}