{
  "nbformat": 4,
  "nbformat_minor": 0,
  "metadata": {
    "colab": {
      "provenance": [],
      "collapsed_sections": [
        "qVsfl-ikb_H5"
      ],
      "authorship_tag": "ABX9TyM5lewE+IgoRjIrALaAWqV0",
      "include_colab_link": true
    },
    "kernelspec": {
      "name": "python3",
      "display_name": "Python 3"
    },
    "language_info": {
      "name": "python"
    }
  },
  "cells": [
    {
      "cell_type": "markdown",
      "metadata": {
        "id": "view-in-github",
        "colab_type": "text"
      },
      "source": [
        "<a href=\"https://colab.research.google.com/github/Abeer-Rahman/OOP-in-python/blob/main/Lecture3_Encapculation_and_Static_Keyword.ipynb\" target=\"_parent\"><img src=\"https://colab.research.google.com/assets/colab-badge.svg\" alt=\"Open In Colab\"/></a>"
      ]
    },
    {
      "cell_type": "markdown",
      "source": [
        "#Revision of Class and Object"
      ],
      "metadata": {
        "id": "0AE5nlaLk4ZH"
      }
    },
    {
      "cell_type": "markdown",
      "source": [
        "Write OOP classes to handle the following scenarios:\n",
        "* A user can create and view 2D coordinates\n",
        "* A user can find out the distance between 2 coordinates\n",
        "* A user can find find the distance of a coordinate from origin\n",
        "* A user can check if a point lies on a given line\n",
        "* A user can find the distance between a given 2D point and a given line"
      ],
      "metadata": {
        "id": "qai5ylSYNxqm"
      }
    },
    {
      "cell_type": "code",
      "source": [
        "#We will make two classes Point and Line, and see how these two classes interact\n",
        "#with each other\n",
        "\n",
        "class Point:\n",
        "  def __init__(self,x,y):\n",
        "    self.x_cod=x\n",
        "    self.y_cod=y\n"
      ],
      "metadata": {
        "id": "DyivNfE2N9BU"
      },
      "execution_count": null,
      "outputs": []
    },
    {
      "cell_type": "code",
      "source": [
        "#Let's make a object\n",
        "p=Point(1,2)\n",
        "print(p)"
      ],
      "metadata": {
        "colab": {
          "base_uri": "https://localhost:8080/"
        },
        "id": "jleLYCy6O31t",
        "outputId": "e6d8a184-dbe2-474c-a429-de6a9158706d"
      },
      "execution_count": null,
      "outputs": [
        {
          "output_type": "stream",
          "name": "stdout",
          "text": [
            "<__main__.Point object at 0x7cd8bf18aaa0>\n"
          ]
        }
      ]
    },
    {
      "cell_type": "markdown",
      "source": [
        "##creating and viewing 2D coordinates"
      ],
      "metadata": {
        "id": "2f3Cl-8eQFR2"
      }
    },
    {
      "cell_type": "code",
      "source": [
        "class Point:\n",
        "  def __init__(self,x,y):\n",
        "    self.x_cod=x\n",
        "    self.y_cod=y\n",
        "\n",
        "  def __str__(self):\n",
        "    return '<{},{}>'.format(self.x_cod,self.y_cod)"
      ],
      "metadata": {
        "id": "tUilScMUPMZ2"
      },
      "execution_count": null,
      "outputs": []
    },
    {
      "cell_type": "code",
      "source": [
        "p1=Point(1,2)\n",
        "p2=Point(3,4)\n",
        "print(p1)\n",
        "print(p2)"
      ],
      "metadata": {
        "colab": {
          "base_uri": "https://localhost:8080/"
        },
        "id": "bAY0bNMLPitc",
        "outputId": "d2990e37-e67b-4990-99b1-181bac895b97"
      },
      "execution_count": null,
      "outputs": [
        {
          "output_type": "stream",
          "name": "stdout",
          "text": [
            "<1,2>\n",
            "<3,4>\n"
          ]
        }
      ]
    },
    {
      "cell_type": "markdown",
      "source": [
        "##finding out the distance between 2 coordinates"
      ],
      "metadata": {
        "id": "JCxFBNuDQTtu"
      }
    },
    {
      "cell_type": "code",
      "source": [
        "import math\n",
        "class Point:\n",
        "  def __init__(self,x,y):\n",
        "    self.x_cod=x\n",
        "    self.y_cod=y\n",
        "\n",
        "  def __str__(self):\n",
        "    return '<{},{}>'.format(self.x_cod,self.y_cod)\n",
        "\n",
        "  def euclidean_distance(self,other):\n",
        "    return math.sqrt((self.x_cod-other.x_cod)**2+(self.y_cod-other.y_cod)**2)\n",
        "\n",
        "\n"
      ],
      "metadata": {
        "id": "7KvBx1ATQSVd"
      },
      "execution_count": null,
      "outputs": []
    },
    {
      "cell_type": "code",
      "source": [
        "p1=Point(2,3)\n",
        "p2=Point(1,2)\n",
        "distance=p1.euclidean_distance(p2)\n",
        "print(distance)\n"
      ],
      "metadata": {
        "colab": {
          "base_uri": "https://localhost:8080/"
        },
        "id": "hng-LYxBa4V8",
        "outputId": "23612328-4a18-4c77-9266-008ec15c2614"
      },
      "execution_count": null,
      "outputs": [
        {
          "output_type": "stream",
          "name": "stdout",
          "text": [
            "1.4142135623730951\n"
          ]
        }
      ]
    },
    {
      "cell_type": "markdown",
      "source": [
        "##Finding distance from origin"
      ],
      "metadata": {
        "id": "qVsfl-ikb_H5"
      }
    },
    {
      "cell_type": "code",
      "source": [
        "import math\n",
        "class Point:\n",
        "  def __init__(self,x,y):\n",
        "    self.x_cod=x\n",
        "    self.y_cod=y\n",
        "\n",
        "  def __str__(self):\n",
        "    return '<{},{}>'.format(self.x_cod,self.y_cod)\n",
        "\n",
        "  def euclidean_distance(self,other):\n",
        "    return math.sqrt((self.x_cod-other.x_cod)**2+(self.y_cod-other.y_cod)**2)\n",
        "\n",
        "  def distance_from_origin(self):\n",
        "    return self.euclidean_distance(Point(0,0))\n",
        "\n",
        "\n"
      ],
      "metadata": {
        "id": "Wky9E3lncEVW"
      },
      "execution_count": null,
      "outputs": []
    },
    {
      "cell_type": "code",
      "source": [
        "p1=Point(3,4)\n",
        "print(p1.distance_from_origin())\n"
      ],
      "metadata": {
        "colab": {
          "base_uri": "https://localhost:8080/"
        },
        "id": "o22AxGFYcxra",
        "outputId": "da4487b2-23f7-4bd2-8529-1a869b23dc7a"
      },
      "execution_count": null,
      "outputs": [
        {
          "output_type": "stream",
          "name": "stdout",
          "text": [
            "5.0\n"
          ]
        }
      ]
    },
    {
      "cell_type": "markdown",
      "source": [
        "##Checking whether a given point is on a given line or not\n",
        "We will make a line class here that will look like ax+by+c=0\n",
        "a,b,c will be given by the user"
      ],
      "metadata": {
        "id": "3KUbcNgSd1pB"
      }
    },
    {
      "cell_type": "code",
      "source": [
        "class Line:\n",
        "  def __init__(self,a,b,c):\n",
        "    self.a=a #self.a and a are two different variables\n",
        "    self.b=b\n",
        "    self.c=c\n",
        "\n",
        "  def __str__(self):\n",
        "    return '{}x+{}y+{}=0'.format(self.a,self.b,self.c)\n"
      ],
      "metadata": {
        "id": "ygFvIHfceWre"
      },
      "execution_count": null,
      "outputs": []
    },
    {
      "cell_type": "code",
      "source": [
        "#creating line object\n",
        "line1= Line(2,3,5)\n",
        "print(line1)"
      ],
      "metadata": {
        "colab": {
          "base_uri": "https://localhost:8080/"
        },
        "id": "PrCZz3WJfkIP",
        "outputId": "0b94f6b7-b12f-4f25-bbb7-8edd931510d8"
      },
      "execution_count": null,
      "outputs": [
        {
          "output_type": "stream",
          "name": "stdout",
          "text": [
            "2x+3y+5=0\n"
          ]
        }
      ]
    },
    {
      "cell_type": "code",
      "source": [
        "class Line:\n",
        "  def __init__(self,a,b,c):\n",
        "    self.a=a #self.a and a are two different variables\n",
        "    self.b=b\n",
        "    self.c=c\n",
        "\n",
        "  def __str__(self):\n",
        "    return '{}x+{}y+{}=0'.format(self.a,self.b,self.c)\n",
        "\n",
        "  def point_on_line(line,point):\n",
        "    if line.a*point.x_cod+line.b*point.y_cod+line.c ==0:\n",
        "      return \"Lies on the line\"\n",
        "    else:\n",
        "      return \"Does not lie on the line\"\n",
        "\n"
      ],
      "metadata": {
        "id": "bjTD27OmgEmo"
      },
      "execution_count": null,
      "outputs": []
    },
    {
      "cell_type": "code",
      "source": [
        "l1=Line(1,1,-2)\n",
        "p1=Point(1,1)\n",
        "l1.point_on_line(p1)"
      ],
      "metadata": {
        "colab": {
          "base_uri": "https://localhost:8080/",
          "height": 36
        },
        "id": "PTwubHOBiXTb",
        "outputId": "dc699ebf-ca6b-426e-dd04-7c6cc8d44641"
      },
      "execution_count": null,
      "outputs": [
        {
          "output_type": "execute_result",
          "data": {
            "text/plain": [
              "'Lies on the line'"
            ],
            "application/vnd.google.colaboratory.intrinsic+json": {
              "type": "string"
            }
          },
          "metadata": {},
          "execution_count": 27
        }
      ]
    },
    {
      "cell_type": "markdown",
      "source": [
        "##Shortest distance between a line and a point\n"
      ],
      "metadata": {
        "id": "WP7oxXm1i49T"
      }
    },
    {
      "cell_type": "code",
      "source": [
        "import math\n",
        "class Line:\n",
        "  def __init__(self,a,b,c):\n",
        "    self.a=a #self.a and a are two different variables\n",
        "    self.b=b\n",
        "    self.c=c\n",
        "\n",
        "  def __str__(self):\n",
        "    return '{}x+{}y+{}=0'.format(self.a,self.b,self.c)\n",
        "\n",
        "  def point_on_line(line,point):\n",
        "    if line.a*point.x_cod+line.b*point.y_cod+line.c ==0:\n",
        "      return \"Lies on the line\"\n",
        "    else:\n",
        "      return \"Does not lie on the line\"\n",
        "\n",
        "  def shortest_distance(line,point):\n",
        "    return abs(line.a*point.x_cod+line.b*point.y_cod+line.c)/math.sqrt(line.a**2+line.b**2)\n",
        "\n"
      ],
      "metadata": {
        "id": "mplTs8OfjM0K"
      },
      "execution_count": null,
      "outputs": []
    },
    {
      "cell_type": "code",
      "source": [
        "p1=Point(1,2)\n",
        "l1=Line(3,4,-2)\n",
        "l1.shortest_distance(p1)"
      ],
      "metadata": {
        "colab": {
          "base_uri": "https://localhost:8080/"
        },
        "id": "mPtRdDH2kiXh",
        "outputId": "9456b6e1-1c14-4de1-c972-f90fded5d3e0"
      },
      "execution_count": null,
      "outputs": [
        {
          "output_type": "execute_result",
          "data": {
            "text/plain": [
              "1.8"
            ]
          },
          "metadata": {},
          "execution_count": 29
        }
      ]
    },
    {
      "cell_type": "markdown",
      "source": [
        "#Resume\n",
        "##Acccessing attributes by object"
      ],
      "metadata": {
        "id": "Y3CEmZErlGYS"
      }
    },
    {
      "cell_type": "code",
      "source": [
        "class Person:\n",
        "\n",
        "  def __init__(self,name_input,country_input):\n",
        "    self.name = name_input\n",
        "    self.country = country_input\n",
        "\n",
        "  def greet(self):\n",
        "    if self.country == 'india':\n",
        "      print('Namaste',self.name)\n",
        "    else:\n",
        "      print('Hello',self.name)\n",
        "\n",
        "p=Person(\"Taylor\",\"USA\")\n"
      ],
      "metadata": {
        "colab": {
          "base_uri": "https://localhost:8080/",
          "height": 36
        },
        "id": "8zILmFSNmkhb",
        "outputId": "101ec421-e71f-4338-ab8b-88a99d0ef35c"
      },
      "execution_count": null,
      "outputs": [
        {
          "output_type": "execute_result",
          "data": {
            "text/plain": [
              "'USA'"
            ],
            "application/vnd.google.colaboratory.intrinsic+json": {
              "type": "string"
            }
          },
          "metadata": {},
          "execution_count": 32
        }
      ]
    },
    {
      "cell_type": "code",
      "source": [
        "p.name\n"
      ],
      "metadata": {
        "colab": {
          "base_uri": "https://localhost:8080/",
          "height": 36
        },
        "id": "uTn_VvXsnMZP",
        "outputId": "7f7d0332-91d5-43ed-f523-384f4ff9438b"
      },
      "execution_count": null,
      "outputs": [
        {
          "output_type": "execute_result",
          "data": {
            "text/plain": [
              "'Taylor'"
            ],
            "application/vnd.google.colaboratory.intrinsic+json": {
              "type": "string"
            }
          },
          "metadata": {},
          "execution_count": 33
        }
      ]
    },
    {
      "cell_type": "code",
      "source": [
        "p.country"
      ],
      "metadata": {
        "colab": {
          "base_uri": "https://localhost:8080/",
          "height": 36
        },
        "id": "adEkZyQpnNoQ",
        "outputId": "2c9b96a0-4bf6-423c-b881-02ce8dec90c2"
      },
      "execution_count": null,
      "outputs": [
        {
          "output_type": "execute_result",
          "data": {
            "text/plain": [
              "'USA'"
            ],
            "application/vnd.google.colaboratory.intrinsic+json": {
              "type": "string"
            }
          },
          "metadata": {},
          "execution_count": 34
        }
      ]
    },
    {
      "cell_type": "code",
      "source": [
        "p.greet()"
      ],
      "metadata": {
        "colab": {
          "base_uri": "https://localhost:8080/"
        },
        "id": "a5un9btQnSRU",
        "outputId": "c960e577-6162-4e8a-9f11-595c62f0076b"
      },
      "execution_count": null,
      "outputs": [
        {
          "output_type": "stream",
          "name": "stdout",
          "text": [
            "Hello Taylor\n"
          ]
        }
      ]
    },
    {
      "cell_type": "markdown",
      "source": [
        "##creating attribute outside of the class"
      ],
      "metadata": {
        "id": "7T1lS0Rvnctr"
      }
    },
    {
      "cell_type": "code",
      "source": [
        "p.gender='male'"
      ],
      "metadata": {
        "id": "EEMkAlVCn24v"
      },
      "execution_count": null,
      "outputs": []
    },
    {
      "cell_type": "code",
      "source": [
        "p.gender"
      ],
      "metadata": {
        "colab": {
          "base_uri": "https://localhost:8080/",
          "height": 36
        },
        "id": "nTrdrfBTn7Yx",
        "outputId": "c596e785-8b5a-4403-deef-4621be815cc6"
      },
      "execution_count": null,
      "outputs": [
        {
          "output_type": "execute_result",
          "data": {
            "text/plain": [
              "'male'"
            ],
            "application/vnd.google.colaboratory.intrinsic+json": {
              "type": "string"
            }
          },
          "metadata": {},
          "execution_count": 39
        }
      ]
    },
    {
      "cell_type": "markdown",
      "source": [
        "#Reference Variables"
      ],
      "metadata": {
        "id": "oaweEPD3S3v3"
      }
    },
    {
      "cell_type": "code",
      "source": [
        "#object without reference\n",
        "class Person:\n",
        "  def __init__(self):\n",
        "    self.name='John'\n",
        "    self.gender='male'\n",
        "Person()"
      ],
      "metadata": {
        "colab": {
          "base_uri": "https://localhost:8080/"
        },
        "id": "BPhpKDUwTRZp",
        "outputId": "8272ee86-5ac9-4c9e-cc21-9146fdf8f6f3"
      },
      "execution_count": 3,
      "outputs": [
        {
          "output_type": "execute_result",
          "data": {
            "text/plain": [
              "<__main__.Person at 0x7e501029dff0>"
            ]
          },
          "metadata": {},
          "execution_count": 3
        }
      ]
    },
    {
      "cell_type": "code",
      "source": [
        "#refernce variable holds the memory address of the object\n",
        "p=Person()\n",
        "print(p)\n",
        "#multiple ref variables\n",
        "q=p\n",
        "print(id(p))\n",
        "print(id(q))\n"
      ],
      "metadata": {
        "colab": {
          "base_uri": "https://localhost:8080/"
        },
        "id": "oyNlyrENUA-2",
        "outputId": "5b6fe14a-9bd5-4037-904c-490127d61bcc"
      },
      "execution_count": 5,
      "outputs": [
        {
          "output_type": "stream",
          "name": "stdout",
          "text": [
            "<__main__.Person object at 0x7e4fdf3ce230>\n",
            "138881512825392\n",
            "138881512825392\n"
          ]
        }
      ]
    },
    {
      "cell_type": "markdown",
      "source": [
        "##Pass by reference"
      ],
      "metadata": {
        "id": "u_nfdIowW6NU"
      }
    },
    {
      "cell_type": "code",
      "source": [
        "class Person:\n",
        "  def __init__(self,name,gender):\n",
        "    self.name=name\n",
        "    self.gender=gender\n",
        "\n",
        "#outside of the class ----> function\n",
        "def greet(person):\n",
        "  print(f'My name is {person.name}, and I am a {person.gender}.')\n",
        "\n",
        "p=Person('Ishan','male')\n",
        "greet(p)\n",
        "\n",
        "\n"
      ],
      "metadata": {
        "colab": {
          "base_uri": "https://localhost:8080/"
        },
        "id": "-CxjU5BsW9OI",
        "outputId": "b091eaab-1e42-4c65-8dd3-6792a5e29bd4"
      },
      "execution_count": 9,
      "outputs": [
        {
          "output_type": "stream",
          "name": "stdout",
          "text": [
            "My name is Ishan, and I am a male.\n"
          ]
        }
      ]
    },
    {
      "cell_type": "markdown",
      "source": [
        "##Mutabillity"
      ],
      "metadata": {
        "id": "Gi21lrZ8bY76"
      }
    },
    {
      "cell_type": "code",
      "source": [
        "class Person:\n",
        "  def __init__(self,name,gender):\n",
        "    self.name=name\n",
        "    self.gender=gender\n",
        "\n",
        "def greet(person):\n",
        "  person.name='Bob'\n",
        "  return person\n",
        "\n",
        "p1=Person('Adam','male')\n",
        "print(id(p1))\n",
        "p2=greet(p1)\n",
        "print(id(p2))\n",
        "#the same memory address implies that by default objects are mutable in python\n",
        "#like list,sets,dictionaries\n",
        "#But we can make mutable objects immutable"
      ],
      "metadata": {
        "colab": {
          "base_uri": "https://localhost:8080/"
        },
        "id": "LDA5MwzRbXdk",
        "outputId": "cbea3841-5dcb-44b7-91d6-997d4f105d3d"
      },
      "execution_count": 13,
      "outputs": [
        {
          "output_type": "stream",
          "name": "stdout",
          "text": [
            "138882333667008\n",
            "138882333667008\n"
          ]
        }
      ]
    },
    {
      "cell_type": "markdown",
      "source": [
        "#Encapsulation\n",
        "Making the data attributes private so that they cannot be changed from outside of the class.\n",
        "\n",
        "##getters and setters\n",
        "To access and change data attributes"
      ],
      "metadata": {
        "id": "G99KnxGkf_lt"
      }
    },
    {
      "cell_type": "code",
      "source": [
        "class Atm:\n",
        "\n",
        "  # constructor(special function)->superpower ->\n",
        "  def __init__(self):\n",
        "    print(id(self))\n",
        "    self.pin = ''\n",
        "    self.__balance = 0 #making balance variable private by putting __ before it\n",
        "    #self.menu()\n",
        "\n",
        "  def get_balance(self):\n",
        "    return self.__balance\n",
        "\n",
        "  def set_balance(self,new_value):\n",
        "    if type(new_value) == int:\n",
        "      self.__balance = new_value\n",
        "    else:\n",
        "      print('Cannot do it !!!')\n",
        "\n",
        "  def __menu(self):\n",
        "    user_input = input(\"\"\"\n",
        "    Hi how can I help you?\n",
        "    1. Press 1 to create pin\n",
        "    2. Press 2 to change pin\n",
        "    3. Press 3 to check balance\n",
        "    4. Press 4 to withdraw\n",
        "    5. Anything else to exit\n",
        "    \"\"\")\n",
        "\n",
        "    if user_input == '1':\n",
        "      self.create_pin()\n",
        "    elif user_input == '2':\n",
        "      self.change_pin()\n",
        "    elif user_input == '3':\n",
        "      self.check_balance()\n",
        "    elif user_input == '4':\n",
        "      self.withdraw()\n",
        "    else:\n",
        "      exit()\n",
        "\n",
        "  def create_pin(self):\n",
        "    user_pin = input('enter your pin')\n",
        "    self.pin = user_pin\n",
        "\n",
        "    user_balance = int(input('enter balance'))\n",
        "    self.__balance = user_balance\n",
        "\n",
        "    print('pin created successfully')\n",
        "\n",
        "  def change_pin(self):\n",
        "    old_pin = input('enter old pin')\n",
        "\n",
        "    if old_pin == self.pin:\n",
        "      # let him change the pin\n",
        "      new_pin = input('enter new pin')\n",
        "      self.pin = new_pin\n",
        "      print('pin change successful')\n",
        "    else:\n",
        "      print('Incorrect password')\n",
        "\n",
        "  def check_balance(self):\n",
        "    user_pin = input('enter your pin')\n",
        "    if user_pin == self.pin:\n",
        "      print('your balance is ',self.__balance)\n",
        "    else:\n",
        "      print('Incorrect Pin')\n",
        "\n",
        "  def withdraw(self):\n",
        "    user_pin = input('enter the pin')\n",
        "    if user_pin == self.pin:\n",
        "      # allow to withdraw\n",
        "      amount = int(input('enter the amount'))\n",
        "      if amount <= self.__balance:\n",
        "        self.__balance = self.__balance - amount\n",
        "        print('withdrawl successful.balance is',self.__balance)\n",
        "      else:\n",
        "        print('Insufficient Balance')\n",
        "    else:\n",
        "      print('Incorrect Balance')"
      ],
      "metadata": {
        "id": "HRV0i93nzBtZ"
      },
      "execution_count": 16,
      "outputs": []
    },
    {
      "cell_type": "markdown",
      "source": [
        "##Collection of Objects"
      ],
      "metadata": {
        "id": "3MIRfbGInJJz"
      }
    },
    {
      "cell_type": "code",
      "source": [
        "class Person:\n",
        "  def __init__(self,name,gender):\n",
        "    self.__name=name\n",
        "    self.__gender=gender\n",
        "\n",
        "p1=Person('Sheldon','Male')\n",
        "p2=Person('Penny','Female')\n",
        "p3=Person('Leonard','Male')\n",
        "\n",
        "#List of objects\n",
        "\n",
        "big_bang_theory=[p1,p2,p3]\n",
        "\n",
        "#similary dict of objects is also possible3"
      ],
      "metadata": {
        "id": "jPV-5IzB6vdg"
      },
      "execution_count": 17,
      "outputs": []
    },
    {
      "cell_type": "markdown",
      "source": [
        "#Instance Variable and Static Variable\n",
        "##Instance variable is different for different objects, whereas static variable is same for all objects"
      ],
      "metadata": {
        "id": "vu1XogjBAgbu"
      }
    },
    {
      "cell_type": "code",
      "source": [
        "class Atm:\n",
        "  __counter=1  #static variable,defined outside any method\n",
        "  # constructor(special function)->superpower ->\n",
        "  def __init__(self):\n",
        "    print(id(self))\n",
        "    self.pin = ''\n",
        "    self.__balance = 0 #making balance variable private by putting __ before it\n",
        "    self.id=Atm.__counter\n",
        "    Atm.__counter+=1\n",
        "    #self.menu()\n",
        "  #utilty method\n",
        "  @static_method #decorator for static method\n",
        "  def get_counter():\n",
        "    return Atm.__counter\n",
        "\n",
        "  def get_balance(self):\n",
        "    return self.__balance\n",
        "\n",
        "  def set_balance(self,new_value):\n",
        "    if type(new_value) == int:\n",
        "      self.__balance = new_value\n",
        "    else:\n",
        "      print('Cannot do it !!!')\n",
        "\n",
        "  def __menu(self):\n",
        "    user_input = input(\"\"\"\n",
        "    Hi how can I help you?\n",
        "    1. Press 1 to create pin\n",
        "    2. Press 2 to change pin\n",
        "    3. Press 3 to check balance\n",
        "    4. Press 4 to withdraw\n",
        "    5. Anything else to exit\n",
        "    \"\"\")\n",
        "\n",
        "    if user_input == '1':\n",
        "      self.create_pin()\n",
        "    elif user_input == '2':\n",
        "      self.change_pin()\n",
        "    elif user_input == '3':\n",
        "      self.check_balance()\n",
        "    elif user_input == '4':\n",
        "      self.withdraw()\n",
        "    else:\n",
        "      exit()\n",
        "\n",
        "  def create_pin(self):\n",
        "    user_pin = input('enter your pin')\n",
        "    self.pin = user_pin\n",
        "\n",
        "    user_balance = int(input('enter balance'))\n",
        "    self.__balance = user_balance\n",
        "\n",
        "    print('pin created successfully')\n",
        "\n",
        "  def change_pin(self):\n",
        "    old_pin = input('enter old pin')\n",
        "\n",
        "    if old_pin == self.pin:\n",
        "      # let him change the pin\n",
        "      new_pin = input('enter new pin')\n",
        "      self.pin = new_pin\n",
        "      print('pin change successful')\n",
        "    else:\n",
        "      print('Incorrect password')\n",
        "\n",
        "  def check_balance(self):\n",
        "    user_pin = input('enter your pin')\n",
        "    if user_pin == self.pin:\n",
        "      print('your balance is ',self.__balance)\n",
        "    else:\n",
        "      print('Incorrect Pin')\n",
        "\n",
        "  def withdraw(self):\n",
        "    user_pin = input('enter the pin')\n",
        "    if user_pin == self.pin:\n",
        "      # allow to withdraw\n",
        "      amount = int(input('enter the amount'))\n",
        "      if amount <= self.__balance:\n",
        "        self.__balance = self.__balance - amount\n",
        "        print('withdrawl successful.balance is',self.__balance)\n",
        "      else:\n",
        "        print('Insufficient Balance')\n",
        "    else:\n",
        "      print('Incorrect Balance')"
      ],
      "metadata": {
        "id": "QrsSxWHiFMRX"
      },
      "execution_count": 29,
      "outputs": []
    },
    {
      "cell_type": "code",
      "source": [
        "customer1=Atm()\n",
        "customer2=Atm()\n",
        "customer3=Atm()"
      ],
      "metadata": {
        "colab": {
          "base_uri": "https://localhost:8080/"
        },
        "id": "QTs8zDpWFtuX",
        "outputId": "00df2edc-dbba-43bf-f614-70ce0bb45474"
      },
      "execution_count": 30,
      "outputs": [
        {
          "output_type": "stream",
          "name": "stdout",
          "text": [
            "138881348618848\n",
            "138882333666288\n",
            "138882333670320\n"
          ]
        }
      ]
    },
    {
      "cell_type": "code",
      "source": [
        "print(customer1.id)\n",
        "print(customer2.id)\n",
        "print(customer3.id)"
      ],
      "metadata": {
        "colab": {
          "base_uri": "https://localhost:8080/"
        },
        "id": "2vhdgFwPGW1a",
        "outputId": "2cbcf719-f478-4d36-ef87-680da11b8536"
      },
      "execution_count": 31,
      "outputs": [
        {
          "output_type": "stream",
          "name": "stdout",
          "text": [
            "1\n",
            "2\n",
            "3\n"
          ]
        }
      ]
    },
    {
      "cell_type": "code",
      "source": [
        "#No need to create object\n",
        "#static method has to be called with class name\n",
        "Atm.get_counter()"
      ],
      "metadata": {
        "colab": {
          "base_uri": "https://localhost:8080/"
        },
        "id": "Z0hc1NGkJFYj",
        "outputId": "5c3e8083-e0c9-4c6e-dbc3-7892714659f2"
      },
      "execution_count": 32,
      "outputs": [
        {
          "output_type": "execute_result",
          "data": {
            "text/plain": [
              "4"
            ]
          },
          "metadata": {},
          "execution_count": 32
        }
      ]
    }
  ]
}
