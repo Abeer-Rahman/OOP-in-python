{
  "nbformat": 4,
  "nbformat_minor": 0,
  "metadata": {
    "colab": {
      "provenance": [],
      "authorship_tag": "ABX9TyP63qJ8Vdsb1VBfUUNzzxm+",
      "include_colab_link": true
    },
    "kernelspec": {
      "name": "python3",
      "display_name": "Python 3"
    },
    "language_info": {
      "name": "python"
    }
  },
  "cells": [
    {
      "cell_type": "markdown",
      "metadata": {
        "id": "view-in-github",
        "colab_type": "text"
      },
      "source": [
        "<a href=\"https://colab.research.google.com/github/Abeer-Rahman/OOP-in-python/blob/main/L6_Exception_handling_modules_and_packages_.ipynb\" target=\"_parent\"><img src=\"https://colab.research.google.com/assets/colab-badge.svg\" alt=\"Open In Colab\"/></a>"
      ]
    },
    {
      "cell_type": "markdown",
      "source": [
        "##Exception Handling\n",
        "\n",
        "Error in a programme can occur in two places:\n",
        "1.During compilation:Syntax error\n",
        "2.During execution:Exception error"
      ],
      "metadata": {
        "id": "0rRGXg2LQKNJ"
      }
    },
    {
      "cell_type": "code",
      "execution_count": null,
      "metadata": {
        "colab": {
          "base_uri": "https://localhost:8080/",
          "height": 183
        },
        "id": "6K5MUnHTOuT9",
        "outputId": "6ef38815-09ff-4e81-8e1c-5319cae24a73"
      },
      "outputs": [
        {
          "output_type": "error",
          "ename": "IndexError",
          "evalue": "list index out of range",
          "traceback": [
            "\u001b[0;31m---------------------------------------------------------------------------\u001b[0m",
            "\u001b[0;31mIndexError\u001b[0m                                Traceback (most recent call last)",
            "\u001b[0;32m<ipython-input-1-79b4bcaf8698>\u001b[0m in \u001b[0;36m<cell line: 3>\u001b[0;34m()\u001b[0m\n\u001b[1;32m      1\u001b[0m \u001b[0;31m#Index error\u001b[0m\u001b[0;34m\u001b[0m\u001b[0;34m\u001b[0m\u001b[0m\n\u001b[1;32m      2\u001b[0m \u001b[0ml\u001b[0m\u001b[0;34m=\u001b[0m\u001b[0;34m[\u001b[0m\u001b[0;36m1\u001b[0m\u001b[0;34m,\u001b[0m\u001b[0;36m2\u001b[0m\u001b[0;34m,\u001b[0m\u001b[0;36m3\u001b[0m\u001b[0;34m]\u001b[0m\u001b[0;34m\u001b[0m\u001b[0;34m\u001b[0m\u001b[0m\n\u001b[0;32m----> 3\u001b[0;31m \u001b[0ml\u001b[0m\u001b[0;34m[\u001b[0m\u001b[0;36m100\u001b[0m\u001b[0;34m]\u001b[0m\u001b[0;34m\u001b[0m\u001b[0;34m\u001b[0m\u001b[0m\n\u001b[0m",
            "\u001b[0;31mIndexError\u001b[0m: list index out of range"
          ]
        }
      ],
      "source": [
        "#IndexError\n",
        "l=[1,2,3]\n",
        "l[100]"
      ]
    },
    {
      "cell_type": "code",
      "source": [
        "#ModuleNotFoundError\n",
        "import mathe\n",
        "math.floor(5.6)\n"
      ],
      "metadata": {
        "colab": {
          "base_uri": "https://localhost:8080/",
          "height": 364
        },
        "id": "1kvKZYLoZj0u",
        "outputId": "e76a78fd-64f4-4abf-cabf-71de6a8ab49b"
      },
      "execution_count": null,
      "outputs": [
        {
          "output_type": "error",
          "ename": "ModuleNotFoundError",
          "evalue": "No module named 'mathe'",
          "traceback": [
            "\u001b[0;31m---------------------------------------------------------------------------\u001b[0m",
            "\u001b[0;31mModuleNotFoundError\u001b[0m                       Traceback (most recent call last)",
            "\u001b[0;32m<ipython-input-4-1863da678cac>\u001b[0m in \u001b[0;36m<cell line: 2>\u001b[0;34m()\u001b[0m\n\u001b[1;32m      1\u001b[0m \u001b[0;31m#ModuleNotFound Error\u001b[0m\u001b[0;34m\u001b[0m\u001b[0;34m\u001b[0m\u001b[0m\n\u001b[0;32m----> 2\u001b[0;31m \u001b[0;32mimport\u001b[0m \u001b[0mmathe\u001b[0m\u001b[0;34m\u001b[0m\u001b[0;34m\u001b[0m\u001b[0m\n\u001b[0m\u001b[1;32m      3\u001b[0m \u001b[0mmath\u001b[0m\u001b[0;34m.\u001b[0m\u001b[0mfloor\u001b[0m\u001b[0;34m(\u001b[0m\u001b[0;36m5.6\u001b[0m\u001b[0;34m)\u001b[0m\u001b[0;34m\u001b[0m\u001b[0;34m\u001b[0m\u001b[0m\n",
            "\u001b[0;31mModuleNotFoundError\u001b[0m: No module named 'mathe'",
            "",
            "\u001b[0;31m---------------------------------------------------------------------------\u001b[0;32m\nNOTE: If your import is failing due to a missing package, you can\nmanually install dependencies using either !pip or !apt.\n\nTo view examples of installing some common dependencies, click the\n\"Open Examples\" button below.\n\u001b[0;31m---------------------------------------------------------------------------\u001b[0m\n"
          ],
          "errorDetails": {
            "actions": [
              {
                "action": "open_url",
                "actionText": "Open Examples",
                "url": "/notebooks/snippets/importing_libraries.ipynb"
              }
            ]
          }
        }
      ]
    },
    {
      "cell_type": "code",
      "source": [
        "#KeyError\n",
        "a={\n",
        "    'name':'Abeer',\n",
        "    'age':30\n",
        "}\n",
        "\n",
        "a['occupation']"
      ],
      "metadata": {
        "colab": {
          "base_uri": "https://localhost:8080/",
          "height": 183
        },
        "id": "2eByewopaD1u",
        "outputId": "d52abc30-622b-4e95-8ce5-b59a0d949098"
      },
      "execution_count": null,
      "outputs": [
        {
          "output_type": "error",
          "ename": "KeyError",
          "evalue": "'occupation'",
          "traceback": [
            "\u001b[0;31m---------------------------------------------------------------------------\u001b[0m",
            "\u001b[0;31mKeyError\u001b[0m                                  Traceback (most recent call last)",
            "\u001b[0;32m<ipython-input-6-449d454408e1>\u001b[0m in \u001b[0;36m<cell line: 7>\u001b[0;34m()\u001b[0m\n\u001b[1;32m      5\u001b[0m }\n\u001b[1;32m      6\u001b[0m \u001b[0;34m\u001b[0m\u001b[0m\n\u001b[0;32m----> 7\u001b[0;31m \u001b[0ma\u001b[0m\u001b[0;34m[\u001b[0m\u001b[0;34m'occupation'\u001b[0m\u001b[0;34m]\u001b[0m\u001b[0;34m\u001b[0m\u001b[0;34m\u001b[0m\u001b[0m\n\u001b[0m",
            "\u001b[0;31mKeyError\u001b[0m: 'occupation'"
          ]
        }
      ]
    },
    {
      "cell_type": "code",
      "source": [
        "#ValueError\n",
        "#function's argument is of an inappropriate type\n",
        "\n",
        "s='abcd'\n",
        "s=int(s)"
      ],
      "metadata": {
        "colab": {
          "base_uri": "https://localhost:8080/",
          "height": 183
        },
        "id": "wpHTxnlQaovH",
        "outputId": "d8f85fe3-2f67-4105-9724-d01b216d8947"
      },
      "execution_count": null,
      "outputs": [
        {
          "output_type": "error",
          "ename": "ValueError",
          "evalue": "invalid literal for int() with base 10: 'abcd'",
          "traceback": [
            "\u001b[0;31m---------------------------------------------------------------------------\u001b[0m",
            "\u001b[0;31mValueError\u001b[0m                                Traceback (most recent call last)",
            "\u001b[0;32m<ipython-input-7-fa45e9742963>\u001b[0m in \u001b[0;36m<cell line: 5>\u001b[0;34m()\u001b[0m\n\u001b[1;32m      3\u001b[0m \u001b[0;34m\u001b[0m\u001b[0m\n\u001b[1;32m      4\u001b[0m \u001b[0ms\u001b[0m\u001b[0;34m=\u001b[0m\u001b[0;34m'abcd'\u001b[0m\u001b[0;34m\u001b[0m\u001b[0;34m\u001b[0m\u001b[0m\n\u001b[0;32m----> 5\u001b[0;31m \u001b[0ms\u001b[0m\u001b[0;34m=\u001b[0m\u001b[0mint\u001b[0m\u001b[0;34m(\u001b[0m\u001b[0ms\u001b[0m\u001b[0;34m)\u001b[0m\u001b[0;34m\u001b[0m\u001b[0;34m\u001b[0m\u001b[0m\n\u001b[0m",
            "\u001b[0;31mValueError\u001b[0m: invalid literal for int() with base 10: 'abcd'"
          ]
        }
      ]
    },
    {
      "cell_type": "code",
      "source": [
        "#ValueError\n",
        "#Operation is applied to an inappropriate type\n",
        "\n",
        "l=1+'a'\n"
      ],
      "metadata": {
        "colab": {
          "base_uri": "https://localhost:8080/",
          "height": 183
        },
        "id": "rHJlHAkvaowT",
        "outputId": "07a4275b-21f1-495a-d292-4d9ba734b12f"
      },
      "execution_count": null,
      "outputs": [
        {
          "output_type": "error",
          "ename": "TypeError",
          "evalue": "unsupported operand type(s) for +: 'int' and 'str'",
          "traceback": [
            "\u001b[0;31m---------------------------------------------------------------------------\u001b[0m",
            "\u001b[0;31mTypeError\u001b[0m                                 Traceback (most recent call last)",
            "\u001b[0;32m<ipython-input-8-34e2c09f71c0>\u001b[0m in \u001b[0;36m<cell line: 4>\u001b[0;34m()\u001b[0m\n\u001b[1;32m      2\u001b[0m \u001b[0;31m#Operation or function is applied to an inappropriate type\u001b[0m\u001b[0;34m\u001b[0m\u001b[0;34m\u001b[0m\u001b[0m\n\u001b[1;32m      3\u001b[0m \u001b[0;34m\u001b[0m\u001b[0m\n\u001b[0;32m----> 4\u001b[0;31m \u001b[0ml\u001b[0m\u001b[0;34m=\u001b[0m\u001b[0;36m1\u001b[0m\u001b[0;34m+\u001b[0m\u001b[0;34m'a'\u001b[0m\u001b[0;34m\u001b[0m\u001b[0;34m\u001b[0m\u001b[0m\n\u001b[0m",
            "\u001b[0;31mTypeError\u001b[0m: unsupported operand type(s) for +: 'int' and 'str'"
          ]
        }
      ]
    },
    {
      "cell_type": "code",
      "source": [
        "#NameError\n",
        "#using variable that has not been created\n",
        "a=5\n",
        "print(a+c)"
      ],
      "metadata": {
        "colab": {
          "base_uri": "https://localhost:8080/",
          "height": 183
        },
        "id": "Sa06ubSGbio2",
        "outputId": "9e4d486f-8c5e-4bdf-93c1-62c4dd046398"
      },
      "execution_count": null,
      "outputs": [
        {
          "output_type": "error",
          "ename": "NameError",
          "evalue": "name 'c' is not defined",
          "traceback": [
            "\u001b[0;31m---------------------------------------------------------------------------\u001b[0m",
            "\u001b[0;31mNameError\u001b[0m                                 Traceback (most recent call last)",
            "\u001b[0;32m<ipython-input-9-38a6268aaf3e>\u001b[0m in \u001b[0;36m<cell line: 4>\u001b[0;34m()\u001b[0m\n\u001b[1;32m      2\u001b[0m \u001b[0;31m#using variable that has not been created\u001b[0m\u001b[0;34m\u001b[0m\u001b[0;34m\u001b[0m\u001b[0m\n\u001b[1;32m      3\u001b[0m \u001b[0ma\u001b[0m\u001b[0;34m=\u001b[0m\u001b[0;36m5\u001b[0m\u001b[0;34m\u001b[0m\u001b[0;34m\u001b[0m\u001b[0m\n\u001b[0;32m----> 4\u001b[0;31m \u001b[0mprint\u001b[0m\u001b[0;34m(\u001b[0m\u001b[0ma\u001b[0m\u001b[0;34m+\u001b[0m\u001b[0mc\u001b[0m\u001b[0;34m)\u001b[0m\u001b[0;34m\u001b[0m\u001b[0;34m\u001b[0m\u001b[0m\n\u001b[0m",
            "\u001b[0;31mNameError\u001b[0m: name 'c' is not defined"
          ]
        }
      ]
    },
    {
      "cell_type": "code",
      "source": [
        "#AttributeError\n",
        "l=[1,2,3]\n",
        "l.upper()"
      ],
      "metadata": {
        "colab": {
          "base_uri": "https://localhost:8080/",
          "height": 183
        },
        "id": "xeQ50GIxbzZH",
        "outputId": "8c942bc0-ab7f-4ea3-d020-7fc846745414"
      },
      "execution_count": null,
      "outputs": [
        {
          "output_type": "error",
          "ename": "AttributeError",
          "evalue": "'list' object has no attribute 'upper'",
          "traceback": [
            "\u001b[0;31m---------------------------------------------------------------------------\u001b[0m",
            "\u001b[0;31mAttributeError\u001b[0m                            Traceback (most recent call last)",
            "\u001b[0;32m<ipython-input-10-5cf1a0d8628e>\u001b[0m in \u001b[0;36m<cell line: 3>\u001b[0;34m()\u001b[0m\n\u001b[1;32m      1\u001b[0m \u001b[0;31m#AttributeError\u001b[0m\u001b[0;34m\u001b[0m\u001b[0;34m\u001b[0m\u001b[0m\n\u001b[1;32m      2\u001b[0m \u001b[0ml\u001b[0m\u001b[0;34m=\u001b[0m\u001b[0;34m[\u001b[0m\u001b[0;36m1\u001b[0m\u001b[0;34m,\u001b[0m\u001b[0;36m2\u001b[0m\u001b[0;34m,\u001b[0m\u001b[0;36m3\u001b[0m\u001b[0;34m]\u001b[0m\u001b[0;34m\u001b[0m\u001b[0;34m\u001b[0m\u001b[0m\n\u001b[0;32m----> 3\u001b[0;31m \u001b[0ml\u001b[0m\u001b[0;34m.\u001b[0m\u001b[0mupper\u001b[0m\u001b[0;34m(\u001b[0m\u001b[0;34m)\u001b[0m\u001b[0;34m\u001b[0m\u001b[0;34m\u001b[0m\u001b[0m\n\u001b[0m",
            "\u001b[0;31mAttributeError\u001b[0m: 'list' object has no attribute 'upper'"
          ]
        }
      ]
    },
    {
      "cell_type": "markdown",
      "source": [
        "##Exception Error\n",
        "No problem in the written script. It is basically a logical error. Exceptions are raised by python runtine\n",
        "Examples:\n",
        "* Memory Overflow\n",
        "* Divide by Zero\n",
        "* Database Error\n"
      ],
      "metadata": {
        "id": "hTx5gURNcg1e"
      }
    },
    {
      "cell_type": "code",
      "source": [
        "#Try Except block\n",
        "with open('sample.txt','w') as f:\n",
        "  f.write('Hello world')\n"
      ],
      "metadata": {
        "id": "GtmEn_IecdNj"
      },
      "execution_count": null,
      "outputs": []
    },
    {
      "cell_type": "code",
      "source": [
        "#reading file\n",
        "try:\n",
        "  with open('samplev.txt','r') as f:\n",
        "    print(f.read())\n",
        "except:\n",
        "  print(\"File not Found\")"
      ],
      "metadata": {
        "colab": {
          "base_uri": "https://localhost:8080/"
        },
        "id": "QIeCAkFmcdMb",
        "outputId": "0dd8d5aa-8b40-4bd5-a204-4ee2ccd6bc37"
      },
      "execution_count": null,
      "outputs": [
        {
          "output_type": "stream",
          "name": "stdout",
          "text": [
            "File not Found\n"
          ]
        }
      ]
    },
    {
      "cell_type": "markdown",
      "source": [
        "##Catching specific error"
      ],
      "metadata": {
        "id": "7rNWPFbZokrM"
      }
    },
    {
      "cell_type": "code",
      "source": [
        "try:\n",
        "  with open('sampl.txt','r') as f:\n",
        "    print(f.read())\n",
        "  print(m)\n",
        "except FileNotFoundError:\n",
        "  print(\"File Not Found\")\n",
        "except NameError:\n",
        "  print('Variable is not defined')\n"
      ],
      "metadata": {
        "colab": {
          "base_uri": "https://localhost:8080/"
        },
        "id": "WmH8RuxMoo5h",
        "outputId": "ea7e397c-c15c-48bf-c406-07f0127260b4"
      },
      "execution_count": null,
      "outputs": [
        {
          "output_type": "stream",
          "name": "stdout",
          "text": [
            "File Not Found\n"
          ]
        }
      ]
    },
    {
      "cell_type": "code",
      "source": [
        "try:\n",
        "  with open('sample.txt','r') as f:\n",
        "    print(f.read())\n",
        "  print(m)\n",
        "except FileNotFoundError:\n",
        "  print(\"File Not Found\")\n",
        "except NameError:\n",
        "  print('Variable is not defined')"
      ],
      "metadata": {
        "colab": {
          "base_uri": "https://localhost:8080/"
        },
        "id": "IQ0IwXfrpOl_",
        "outputId": "5a4e3fb9-3b44-4246-de43-aa73e2e3a65b"
      },
      "execution_count": null,
      "outputs": [
        {
          "output_type": "stream",
          "name": "stdout",
          "text": [
            "Hello world\n",
            "Variable is not defined\n"
          ]
        }
      ]
    },
    {
      "cell_type": "code",
      "source": [
        "#ZeroDivisionError\n",
        "try:\n",
        "  m=2\n",
        "  with open('sample.txt','r') as f:\n",
        "    print(f.read())\n",
        "  print(m)\n",
        "  print(5/0)\n",
        "except FileNotFoundError:\n",
        "  print(\"File Not Found\")\n",
        "except NameError:\n",
        "  print('Variable is not defined')\n",
        "\n",
        "# except Exception as e: #traceback error message\n",
        "#   print(e.with_traceback)\n",
        "except ZeroDivisionError:\n",
        "  print('Cannot Divide by Zero')\n",
        "\n"
      ],
      "metadata": {
        "colab": {
          "base_uri": "https://localhost:8080/"
        },
        "id": "gmPst5napuFD",
        "outputId": "00277082-90e7-413d-8e45-dce757d114f6"
      },
      "execution_count": null,
      "outputs": [
        {
          "output_type": "stream",
          "name": "stdout",
          "text": [
            "Hello world\n",
            "2\n",
            "Cannot Divide by Zero\n"
          ]
        }
      ]
    },
    {
      "cell_type": "code",
      "source": [
        "#generic exception at the end\n",
        "\n",
        "try:\n",
        "  m=2\n",
        "  with open('sample.txt','r') as f:\n",
        "    print(f.read())\n",
        "  print(m)\n",
        "  print(5/2)\n",
        "  l=[1,2,3]\n",
        "  print(l[5])\n",
        "except FileNotFoundError:\n",
        "  print(\"File Not Found\")\n",
        "except NameError:\n",
        "  print('Variable is not defined')\n",
        "\n",
        "# except Exception as e: #traceback error message\n",
        "#   print(e.with_traceback)\n",
        "except ZeroDivisionError:\n",
        "  print('Cannot Divide by Zero')\n",
        "\n",
        "except Exception as e:\n",
        "  print(e.with_traceback)"
      ],
      "metadata": {
        "colab": {
          "base_uri": "https://localhost:8080/"
        },
        "id": "IPCtWOLtqaPv",
        "outputId": "6e5ea8ea-cd23-495f-faee-de4dd8241b7d"
      },
      "execution_count": null,
      "outputs": [
        {
          "output_type": "stream",
          "name": "stdout",
          "text": [
            "Hello world\n",
            "2\n",
            "2.5\n",
            "<built-in method with_traceback of IndexError object at 0x7b8877d995d0>\n"
          ]
        }
      ]
    },
    {
      "cell_type": "code",
      "source": [
        "#else block\n",
        "try:\n",
        "  f=open('sample2.txt','r')\n",
        "except FileNotFoundError:\n",
        "  print('File Not Found')\n",
        "except Exception:\n",
        "  print('Something went wrong!!!')\n",
        "#if except is not tiggered\n",
        "else:\n",
        "  print(f.read())"
      ],
      "metadata": {
        "colab": {
          "base_uri": "https://localhost:8080/"
        },
        "id": "rmOIvYiVrqgp",
        "outputId": "3396856b-4a8d-44c2-ef7f-c10f18d6f9fa"
      },
      "execution_count": null,
      "outputs": [
        {
          "output_type": "stream",
          "name": "stdout",
          "text": [
            "File Not Found\n"
          ]
        }
      ]
    },
    {
      "cell_type": "code",
      "source": [
        "#else block\n",
        "try:\n",
        "  f=open('sample.txt','r')\n",
        "except FileNotFoundError:\n",
        "  print('File Not Found')\n",
        "except Exception:\n",
        "  print('Something went wrong!!!')\n",
        "#if except is not tiggered\n",
        "else:\n",
        "  print(f.read())"
      ],
      "metadata": {
        "colab": {
          "base_uri": "https://localhost:8080/"
        },
        "id": "eUSKrBsgsrcV",
        "outputId": "b7bc55a2-4ea4-4b56-9580-377405eae81b"
      },
      "execution_count": null,
      "outputs": [
        {
          "output_type": "stream",
          "name": "stdout",
          "text": [
            "Hello world\n"
          ]
        }
      ]
    },
    {
      "cell_type": "code",
      "source": [
        "#finally block\n",
        "#whatever is in the finally block, it will execute\n",
        "try:\n",
        "  f=open('sample.txt','r')\n",
        "except FileNotFoundError:\n",
        "  print('File Not Found')\n",
        "except Exception:\n",
        "  print('Something went wrong!!!')\n",
        "#if except is not tiggered\n",
        "else:\n",
        "  print(f.read())\n",
        "\n",
        "finally:\n",
        "  print(\"Finally block gets executed\")\n",
        "\n"
      ],
      "metadata": {
        "colab": {
          "base_uri": "https://localhost:8080/"
        },
        "id": "DWc70nBxtQeK",
        "outputId": "e707b222-f3cf-4ca0-a54c-88b617e63564"
      },
      "execution_count": null,
      "outputs": [
        {
          "output_type": "stream",
          "name": "stdout",
          "text": [
            "Hello world\n",
            "Finally block gets executed\n"
          ]
        }
      ]
    },
    {
      "cell_type": "markdown",
      "source": [],
      "metadata": {
        "id": "6wYHBXHoRvnF"
      }
    },
    {
      "cell_type": "markdown",
      "source": [
        "##Raise exception\n",
        "Whenever there is an error in the execution of the program, pyhton automatically throws an error. However, a programmer can make a compiler through an error manually also by using the raise keyword.  "
      ],
      "metadata": {
        "id": "gTIYTIMoRvou"
      }
    },
    {
      "cell_type": "code",
      "source": [
        "raise NameError('This message will be printed')"
      ],
      "metadata": {
        "colab": {
          "base_uri": "https://localhost:8080/",
          "height": 147
        },
        "id": "8yfzO8umRx87",
        "outputId": "f79aa501-a1f2-4ff1-bb26-cfb3155537ab"
      },
      "execution_count": 2,
      "outputs": [
        {
          "output_type": "error",
          "ename": "NameError",
          "evalue": "This message will be printed",
          "traceback": [
            "\u001b[0;31m---------------------------------------------------------------------------\u001b[0m",
            "\u001b[0;31mNameError\u001b[0m                                 Traceback (most recent call last)",
            "\u001b[0;32m<ipython-input-2-f5876ddc4d77>\u001b[0m in \u001b[0;36m<cell line: 1>\u001b[0;34m()\u001b[0m\n\u001b[0;32m----> 1\u001b[0;31m \u001b[0;32mraise\u001b[0m \u001b[0mNameError\u001b[0m\u001b[0;34m(\u001b[0m\u001b[0;34m'This message will be printed'\u001b[0m\u001b[0;34m)\u001b[0m\u001b[0;34m\u001b[0m\u001b[0;34m\u001b[0m\u001b[0m\n\u001b[0m",
            "\u001b[0;31mNameError\u001b[0m: This message will be printed"
          ]
        }
      ]
    },
    {
      "cell_type": "code",
      "source": [
        "class Bank:\n",
        "\n",
        "  def __init__(self,balance):\n",
        "    self.balance=balance\n",
        "\n",
        "  def withdraw(self,amount):\n",
        "    if amount<0:\n",
        "      raise Exception('Ammount cannot be negative')\n",
        "    if self.balance<amount:\n",
        "      raise Exception('Insufficient Balance')\n",
        "    self.balance-=amount"
      ],
      "metadata": {
        "id": "7ZJU2ACfWJq9"
      },
      "execution_count": 9,
      "outputs": []
    },
    {
      "cell_type": "code",
      "source": [
        "obj=Bank(10000)\n",
        "try:\n",
        "  obj.withdraw(5000)\n",
        "except Exception as e:\n",
        "  print(e)\n",
        "else:\n",
        "  print(obj.balance)"
      ],
      "metadata": {
        "colab": {
          "base_uri": "https://localhost:8080/"
        },
        "id": "uRC2xD-lWr3J",
        "outputId": "76e59e3a-093f-4acc-e719-ae488b88c9b7"
      },
      "execution_count": 8,
      "outputs": [
        {
          "output_type": "stream",
          "name": "stdout",
          "text": [
            "5000\n"
          ]
        }
      ]
    },
    {
      "cell_type": "code",
      "source": [
        "obj=Bank(10000)\n",
        "try:\n",
        "  obj.withdraw(-5000)\n",
        "except Exception as e:\n",
        "  print(e)\n",
        "else:\n",
        "  print(obj.balance)"
      ],
      "metadata": {
        "colab": {
          "base_uri": "https://localhost:8080/"
        },
        "id": "yYZ3LTAGYBJ7",
        "outputId": "ec66ac07-8a0c-4255-e975-79bd44b9d7f9"
      },
      "execution_count": 10,
      "outputs": [
        {
          "output_type": "stream",
          "name": "stdout",
          "text": [
            "Ammount cannot be negative\n"
          ]
        }
      ]
    },
    {
      "cell_type": "markdown",
      "source": [
        "##Creating own exception"
      ],
      "metadata": {
        "id": "oiG4fV-EYzsH"
      }
    },
    {
      "cell_type": "code",
      "source": [
        "#Custon exception class has to be inherited from the Exception class\n",
        "class MyException(Exception):\n",
        "  def __init__(self,message):\n",
        "    print(message)\n",
        "\n",
        "\n",
        "class Bank:\n",
        "\n",
        "  def __init__(self,balance):\n",
        "    self.balance=balance\n",
        "\n",
        "  def withdraw(self,amount):\n",
        "    if amount<0:\n",
        "      raise MyException('Ammount cannot be negative')\n",
        "    if self.balance<amount:\n",
        "      raise MyException('Insufficient Balance')\n",
        "    self.balance-=amount"
      ],
      "metadata": {
        "id": "Ds3NDlMYZXeh"
      },
      "execution_count": 11,
      "outputs": []
    },
    {
      "cell_type": "code",
      "source": [
        "obj=Bank(10000)\n",
        "try:\n",
        "  obj.withdraw(-5000)\n",
        "except MyException as e:\n",
        "  pass\n",
        "else:\n",
        "  print(obj.balance)"
      ],
      "metadata": {
        "colab": {
          "base_uri": "https://localhost:8080/"
        },
        "id": "SKklXDJRaWy5",
        "outputId": "1ba4a019-c129-4ac7-a490-c8a313e00aea"
      },
      "execution_count": 12,
      "outputs": [
        {
          "output_type": "stream",
          "name": "stdout",
          "text": [
            "Ammount cannot be negative\n"
          ]
        }
      ]
    },
    {
      "cell_type": "code",
      "source": [
        "class SecurityError(Exception):\n",
        "  def __init_(self,message):\n",
        "    print(mesage)\n",
        "\n",
        "  def logout(self):\n",
        "    print('Logged out of all devices')\n",
        "\n",
        "class Microsoft:\n",
        "  def __init__(self,name,email,password,device):\n",
        "    self.name=name\n",
        "    self.email=email\n",
        "    self.password=password\n",
        "    self.device=device\n",
        "\n",
        "  def login(self,email,password,device):\n",
        "    if device != self.device:\n",
        "      raise SecurityError('Device not registered')\n",
        "    elif email==self.email and password==self.password:\n",
        "      print(\"Welcome\")\n",
        "    else:\n",
        "      print(\"Login Error\")"
      ],
      "metadata": {
        "id": "oX_NfFATb64f"
      },
      "execution_count": 16,
      "outputs": []
    },
    {
      "cell_type": "code",
      "source": [
        "obj=Microsoft('Butters','butters_chaos@sp.com','12543','14pro_max')"
      ],
      "metadata": {
        "id": "s7eFuZNie_9O"
      },
      "execution_count": 17,
      "outputs": []
    },
    {
      "cell_type": "code",
      "source": [
        "try:\n",
        "  obj.login('butters_chaos@sp.com','12543','S24')\n",
        "except SecurityError as e:\n",
        "  print(e)\n",
        "  e.logout()\n"
      ],
      "metadata": {
        "colab": {
          "base_uri": "https://localhost:8080/"
        },
        "id": "WQyAP-tZkGFA",
        "outputId": "bb2314d8-5ef1-4d9a-e573-82f842bbd701"
      },
      "execution_count": 22,
      "outputs": [
        {
          "output_type": "stream",
          "name": "stdout",
          "text": [
            "Device not registered\n",
            "Logged out of all devices\n"
          ]
        }
      ]
    },
    {
      "cell_type": "code",
      "source": [
        "try:\n",
        "  obj.login('butters_chaos@sp.com','12543','14pro_max')\n",
        "except SecurityError as e:\n",
        "  print(e)"
      ],
      "metadata": {
        "colab": {
          "base_uri": "https://localhost:8080/"
        },
        "id": "Uou8R2u1ko-1",
        "outputId": "e9b7c9bf-21a6-4169-b1d4-522af39b81ba"
      },
      "execution_count": 23,
      "outputs": [
        {
          "output_type": "stream",
          "name": "stdout",
          "text": [
            "Welcome\n"
          ]
        }
      ]
    }
  ]
}