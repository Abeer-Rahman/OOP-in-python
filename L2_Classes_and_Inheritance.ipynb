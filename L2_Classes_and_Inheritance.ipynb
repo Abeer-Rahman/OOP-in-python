{
  "nbformat": 4,
  "nbformat_minor": 0,
  "metadata": {
    "colab": {
      "provenance": [],
      "authorship_tag": "ABX9TyNveUyuY+N7BA5UvDaRF1C/",
      "include_colab_link": true
    },
    "kernelspec": {
      "name": "python3",
      "display_name": "Python 3"
    },
    "language_info": {
      "name": "python"
    }
  },
  "cells": [
    {
      "cell_type": "markdown",
      "metadata": {
        "id": "view-in-github",
        "colab_type": "text"
      },
      "source": [
        "<a href=\"https://colab.research.google.com/github/Abeer-Rahman/OOP-in-python/blob/main/L2_Classes_and_Inheritance.ipynb\" target=\"_parent\"><img src=\"https://colab.research.google.com/assets/colab-badge.svg\" alt=\"Open In Colab\"/></a>"
      ]
    },
    {
      "cell_type": "markdown",
      "source": [
        "Source:[MIT OCW 6.0001](https://https://ocw.mit.edu/courses/6-0001-introduction-to-computer-science-and-programming-in-python-fall-2016/resources/lecture-9-python-classes-and-inheritance/)\n",
        "\n",
        "**Codes can be written from two diffrent perspectives**:\n",
        "\n",
        "1. Implementing a new object type :\n",
        "\n",
        "\n",
        "*   Define object type by defining the class\n",
        "*   Define data attributes (What is the object)\n",
        "*  Define methods(How to use the object)\n",
        "\n",
        "2. Using the new object type in code:\n",
        "\n",
        "* Create instances of the object type:\n",
        "Instances are individual objects of a class.Creating instances means creating objects by calling the class with the required parameters.\n",
        "\n",
        "* Do operations with them\n",
        "\n",
        "\n",
        "---\n",
        "\n",
        "**Class definition of an object type and instance of a class**:\n",
        "\n",
        "1.Class name is the object type\n",
        "```\n",
        "class Coordinate(object)\n",
        "```\n",
        "\n",
        "whereas,instance is one specific object.\n",
        "\n",
        "```\n",
        "coord=Coordinate(1,2)\n",
        "```\n",
        "\n",
        "2.We define the class in a sort of general way. We need to access the data attributes of any instance.  For referring to the data attributes of any instance we use the **self** variable without having a particular instance in mind.In class definition self is a parameter to methods.\n",
        "\n",
        "```\n",
        "class (self.x– self.y)**2\n",
        "```\n",
        "\n",
        "In case of instances, data attribute values vary between instances\n",
        "\n",
        "```\n",
        "c1 = Coordinate(1,2) c2 = Coordinate(3,4)\n",
        "```\n",
        "c1 and c2have different data attribute values c1.x and c2.x because they are different objects.\n",
        "\n",
        "\n",
        "3.class defines data and methods common across all instances. for any instance created for a particular object type, that instance is going to have the exact same structure. The difference is that  instances values are  going to be different.\n",
        "\n",
        "\n",
        "# OOP can be used to create objects that can mimic real life\n",
        "\n",
        "[see slides](https://ocw.mit.edu/courses/6-0001-introduction-to-computer-science-and-programming-in-python-fall-2016/resources/mit6_0001f16_lec9/)\n",
        "\n",
        "\n",
        "\n"
      ],
      "metadata": {
        "id": "BdZD1T1Vl7V9"
      }
    },
    {
      "cell_type": "code",
      "source": [
        "class Animal(object):\n",
        "  def __init__(self,age):\n",
        "    self.age=age\n",
        "    self.name=None\n",
        "#create an Animal object\n",
        "myAnimal=Animal(3)"
      ],
      "metadata": {
        "id": "dlaN10MWyG3P"
      },
      "execution_count": 2,
      "outputs": []
    },
    {
      "cell_type": "markdown",
      "source": [
        "**Getters and Setters**"
      ],
      "metadata": {
        "id": "80YZsGccn6RP"
      }
    },
    {
      "cell_type": "code",
      "source": [
        "#getters and setters method\n",
        "\n",
        "class Animal(object):\n",
        "  def __init__(self,age):\n",
        "    self.age=age\n",
        "    self.name=None\n",
        "\n",
        "  def get_age(self):\n",
        "    return self.age\n",
        "  def get_name(self):\n",
        "    return self.name\n",
        "  def set_age(self,newage):\n",
        "    self.age=newage\n",
        "  def set_name(self,newname=\"\"):\n",
        "    self.name=newname\n",
        "#__str__ method tells the python how to print an object of the class Animal\n",
        "  def __str__(self):\n",
        "    return  \"animal:\"+str(self.name)+\":\"+str(self.age)\n"
      ],
      "metadata": {
        "id": "tMBF_iD412Wh"
      },
      "execution_count": null,
      "outputs": []
    },
    {
      "cell_type": "code",
      "source": [
        "a=Animal(3)\n",
        "#a.age\n",
        "#print(a.age)\n",
        "a.get_age()\n",
        "#print(a.get_age())\n",
        "#a.set_name(\"Fluffy\")\n",
        "print(a)\n"
      ],
      "metadata": {
        "colab": {
          "base_uri": "https://localhost:8080/"
        },
        "id": "oN2srDpI5-ye",
        "outputId": "4cde3b46-9747-4a1d-937c-928ed0c76722"
      },
      "execution_count": null,
      "outputs": [
        {
          "output_type": "stream",
          "name": "stdout",
          "text": [
            "animal:None:3\n"
          ]
        }
      ]
    },
    {
      "cell_type": "markdown",
      "source": [
        "Directly accessing data attributes like a.age or a.name is not recommended. We have to use getters and setters to access these data attributes"
      ],
      "metadata": {
        "id": "e391co-Po3lK"
      }
    },
    {
      "cell_type": "markdown",
      "source": [
        "**Hierarchy**"
      ],
      "metadata": {
        "id": "AYQNVzC4BZtk"
      }
    },
    {
      "cell_type": "code",
      "source": [
        "#getters and setters method\n",
        "\n",
        "class Animal(object):\n",
        "  def __init__(self,age):\n",
        "    self.age=age\n",
        "    self.name=None\n",
        "\n",
        "  def get_age(self):\n",
        "    return self.age\n",
        "  def get_name(self):\n",
        "    return self.name\n",
        "  def set_age(self,newage):\n",
        "    self.age=newage\n",
        "  def set_name(self,newname=\"\"):\n",
        "    self.name=newname\n",
        "#__str__ method tells the python how to print an object of the class Animal\n",
        "  def __str__(self):\n",
        "    return  \"animal:\"+str(self.name)+\":\"+str(self.age)\n",
        "#Cat is a subclass of class Animal\n",
        "class Cat(Animal):\n",
        "  def speak(self):\n",
        "    print (\"Meow\")\n",
        "    return \"Cat:\"+str(self.name)+\":\"+str(self.age)\n"
      ],
      "metadata": {
        "id": "uZLytKorBco9"
      },
      "execution_count": 3,
      "outputs": []
    },
    {
      "cell_type": "code",
      "source": [
        "class Person(Animal): #parent class Animal\n",
        "  def __init__(self,name,age):\n",
        "    Animal.__init__(self,age) #call animal constructor\n",
        "    self.set_name(name)  #call Animal's method\n",
        "    self.friends=[]   #add a new data attribute\n",
        "#New methods\n",
        "  def get_friends(self):\n",
        "    return self.friends(self)\n",
        "  def set_friends(self,fname):\n",
        "    if fname not in self.friends:\n",
        "      return self.friends.append(fname)\n",
        "  def speak(self):\n",
        "    print(\"Hello\")\n",
        "\n",
        "  def age_differ(self,other):\n",
        "    diff=self.age-other.age\n",
        "    print(abs(diff),\"years diffrerence\")\n",
        "\n",
        "  def __str__(self):\n",
        "    return \"Person:\"+str(self.name)+\":\"+str(self.age)\n"
      ],
      "metadata": {
        "id": "oj8_9gNUEL-b"
      },
      "execution_count": 4,
      "outputs": []
    },
    {
      "cell_type": "code",
      "source": [
        "import random\n"
      ],
      "metadata": {
        "id": "1KlxY2XcLABr"
      },
      "execution_count": 5,
      "outputs": []
    },
    {
      "cell_type": "code",
      "source": [
        "p1=Person(\"Jack\",30)\n",
        "p2=Person(\"Jill\",25)\n",
        "print(p1.get_name())\n",
        "print(p2.get_name())\n",
        "print(p1)\n",
        "p1.speak()\n",
        "p1.age_differ(p2)"
      ],
      "metadata": {
        "colab": {
          "base_uri": "https://localhost:8080/"
        },
        "id": "M-oeNpbRJe81",
        "outputId": "4fc325c9-0353-4b5a-84ef-09d5f3d66b2b"
      },
      "execution_count": 6,
      "outputs": [
        {
          "output_type": "stream",
          "name": "stdout",
          "text": [
            "Jack\n",
            "Jill\n",
            "Person:Jack:30\n",
            "Hello\n",
            "5 years diffrerence\n"
          ]
        }
      ]
    },
    {
      "cell_type": "code",
      "source": [
        "import random\n",
        "class Student(Person): #inherits Person and Animal attributes\n",
        "  def __init__(self,name,age, major=None):\n",
        "    Person.__init__(self,name,age)\n",
        "    self.major=major\n",
        "\n",
        "  def change_major(self,major):\n",
        "       self.major=major\n",
        "       return self.change_major\n",
        "\n",
        "  def speak(self):\n",
        "    r=random.random()\n",
        "    if r<0.25:\n",
        "      print(\"I have homework\")\n",
        "    elif 0.25<r<0.5:\n",
        "      print(\"I need sleep\")\n",
        "    elif 0.5<=r<0.75:\n",
        "      print(\"I should eat\")\n",
        "    else:\n",
        "      print(\"I am watching TV\")\n",
        "\n",
        "  def __str__(self):\n",
        "    return \"Student:\"+str(self.name)+\":\"+str(self.age)+\":\"+str(self.major)\n",
        "\n"
      ],
      "metadata": {
        "id": "X7pkZBr9LFSO"
      },
      "execution_count": 7,
      "outputs": []
    },
    {
      "cell_type": "code",
      "source": [
        "s1=Student(\"Alice\",20,\"CS\")\n",
        "s2=Student(\"Beth\",18)\n",
        "print(s1)\n",
        "print(s2)\n",
        "print(s1.get_name(),\"says\",end=\" \")\n",
        "s1.speak()\n",
        "print(s2.get_name(),\"says\",end=\" \")\n",
        "s2.speak()\n",
        "s1.change_major(\"Math\")\n",
        "print(s1)\n"
      ],
      "metadata": {
        "colab": {
          "base_uri": "https://localhost:8080/"
        },
        "id": "jTRzXLE_PPbm",
        "outputId": "f2907cc1-9d14-4226-e723-1344f3fce2c3"
      },
      "execution_count": 8,
      "outputs": [
        {
          "output_type": "stream",
          "name": "stdout",
          "text": [
            "Student:Alice:20:CS\n",
            "Student:Beth:18:None\n",
            "Alice says I should eat\n",
            "Beth says I need sleep\n",
            "Student:Alice:20:Math\n"
          ]
        }
      ]
    },
    {
      "cell_type": "markdown",
      "source": [
        "#Class Variables\n",
        "**Instance variables**:self.name,self.age;commom across all of the instances of the class,but values are different among diffrent instances\n",
        "\n",
        "class variables are the variables whose values are shared by all of the instances of the class"
      ],
      "metadata": {
        "id": "k_hTyTIWOd4N"
      }
    },
    {
      "cell_type": "code",
      "source": [
        "class Rabbit(Animal):\n",
        "  tag=1\n",
        "  def __init__(self,age,parent1=None,parent2=None):\n",
        "    #__init__ tells how to create a obj\n",
        "    Animal.__init__(self,age)\n",
        "    self.parent1=parent1\n",
        "    self.parent2=parent2\n",
        "    self.rid=Rabbit.tag #assigns instance variable to the class variable\n",
        "    # Access class variable by class Name\n",
        "    Rabbit.tag+=1\n",
        "    # tag gives new ID to each new Rabbit instance\n",
        "\n",
        "  def get_rid(self):\n",
        "      return str(self.rid).zfill(3)\n",
        "      #zfill method on str pads the the begining with zeros like 001 not 1\n",
        "\n",
        "  def get_parent1(self):\n",
        "      return self.parent1\n",
        "  def get_parent2(self):\n",
        "     return self.parent2\n",
        "\n",
        "  def __add__(self,other):\n",
        "      return Rabbit(0,self,other)\n",
        "\n",
        "  def __eq__(self,other):\n",
        "    '''\n",
        "    checks whether two rabbits are equal based on if they have same parenrts\n",
        "    or not\n",
        "    '''\n",
        "    parents_same=self.parent1.rid == other.parent1.rid\\\n",
        "    and self.parent2.rid == other.parent2.rid\n",
        "    parents_opposite = self.parent2.rid == other.parent1.rid \\\n",
        "    and self.parent1.rid == other.parent2.rid\n",
        "    return parents_same or parents_opposite\n",
        "\n",
        "\n",
        "\n",
        "\n",
        "\n",
        "  def __str__(self):\n",
        "      return \"rabbit: \"+ self.get_rid()\n",
        "\n"
      ],
      "metadata": {
        "id": "BvMRur0sPMVr"
      },
      "execution_count": 9,
      "outputs": []
    },
    {
      "cell_type": "code",
      "source": [
        "print(\"----------rabbit test ----------\")\n",
        "print(\"--------- testing: creating rabbits ---------\")\n",
        "r1=Rabbit(3)\n",
        "r2=Rabbit(4)\n",
        "r3=Rabbit(5)\n",
        "\n",
        "print(r1)\n",
        "print(r2)\n",
        "print(r3)\n",
        "print(\"r1_parent1\",r1.get_parent1())\n",
        "print(\"r1_parent2\",r1.get_parent2())\n",
        "\n",
        "r4=r1+r2 # r1__add__.(r2)\n",
        "print(r1)\n",
        "print(r2)\n",
        "print(r4)\n",
        "print(\"r4_parent1\",r4.get_parent1())\n",
        "print(\"r4_parent2\",r4.get_parent2())\n",
        "\n",
        "print(\"---- testing rabbit equality ----\")\n",
        "r5 = r3+r4\n",
        "r6 = r4+r3\n",
        "print(\"r3:\", r3)\n",
        "print(\"r4:\", r4)\n",
        "print(\"r5:\", r5)\n",
        "print(\"r6:\", r6)\n",
        "print(\"r5 parent1:\", r5.get_parent1())\n",
        "print(\"r5 parent2:\", r5.get_parent2())\n",
        "print(\"r6 parent1:\", r6.get_parent1())\n",
        "print(\"r6 parent2:\", r6.get_parent2())\n",
        "print(\"r5 and r6 have same parents?\", r5 == r6)\n",
        "print(\"r4 and r6 have same parents?\", r4 == r6)"
      ],
      "metadata": {
        "colab": {
          "base_uri": "https://localhost:8080/"
        },
        "id": "IiflRNvjN-aZ",
        "outputId": "fc930d61-edd7-430f-fff4-73ffd585dd5f"
      },
      "execution_count": null,
      "outputs": [
        {
          "output_type": "stream",
          "name": "stdout",
          "text": [
            "----------rabbit test ----------\n",
            "--------- testing: creating rabbits ---------\n",
            "rabbit: 001\n",
            "rabbit: 002\n",
            "rabbit: 003\n",
            "r1_parent1 None\n",
            "r1_parent2 None\n",
            "rabbit: 001\n",
            "rabbit: 002\n",
            "rabbit: 004\n",
            "r4_parent1 rabbit: 001\n",
            "r4_parent2 rabbit: 002\n",
            "---- testing rabbit equality ----\n",
            "r3: rabbit: 003\n",
            "r4: rabbit: 004\n",
            "r5: rabbit: 005\n",
            "r6: rabbit: 006\n",
            "r5 parent1: rabbit: 003\n",
            "r5 parent2: rabbit: 004\n",
            "r6 parent1: rabbit: 004\n",
            "r6 parent2: rabbit: 003\n",
            "r5 and r6 have same parents? True\n",
            "r4 and r6 have same parents? False\n"
          ]
        }
      ]
    }
  ]
}